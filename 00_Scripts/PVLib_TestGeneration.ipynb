{
 "cells": [
  {
   "cell_type": "markdown",
   "metadata": {},
   "source": [
    "## Importing libraries"
   ]
  },
  {
   "cell_type": "code",
   "execution_count": 1,
   "metadata": {},
   "outputs": [],
   "source": [
    "import pandas as pd\n",
    "import matplotlib.pyplot as plt\n",
    "import pvlib\n",
    "from pvlib.pvsystem import PVSystem, Array, FixedMount\n",
    "from pvlib.location import Location\n",
    "from pvlib.modelchain import ModelChain"
   ]
  },
  {
   "cell_type": "markdown",
   "metadata": {},
   "source": [
    "## Modeling paradigms\n",
    "https://pvlib-python.readthedocs.io/en/stable/user_guide/introtutorial.html#modeling-paradigms"
   ]
  },
  {
   "cell_type": "code",
   "execution_count": 2,
   "metadata": {},
   "outputs": [],
   "source": [
    "# %% Modeling paradigms - Setup\n",
    "\n",
    "# latitude, longitude, name, altitude, timezone\n",
    "coordinates = [\n",
    "    (32.2, -111.0, 'Tucson', 700, 'Etc/GMT+7'),\n",
    "    (35.1, -106.6, 'Albuquerque', 1500, 'Etc/GMT+7'),\n",
    "    (37.8, -122.4, 'San Francisco', 10, 'Etc/GMT+8'),\n",
    "    (52.5, 13.4, 'Berlin', 34, 'Etc/GMT-1'),\n",
    "]\n",
    "\n",
    "# get the module and inverter specifications from SAM\n",
    "sandia_modules = pvlib.pvsystem.retrieve_sam('SandiaMod')\n",
    "sapm_inverters = pvlib.pvsystem.retrieve_sam('cecinverter')\n",
    "module = sandia_modules['Canadian_Solar_CS5P_220M___2009_']\n",
    "inverter = sapm_inverters['ABB__MICRO_0_25_I_OUTD_US_208__208V_']\n",
    "temperature_model_parameters = pvlib.temperature.TEMPERATURE_MODEL_PARAMETERS['sapm']['open_rack_glass_glass']\n",
    "\n",
    "tmys = []\n",
    "for location in coordinates:\n",
    "    latitude, longitude, name, altitude, timezone = location\n",
    "    weather = pvlib.iotools.get_pvgis_tmy(latitude, longitude)[0]\n",
    "    weather.index.name = \"utc_time\"\n",
    "    tmys.append(weather)"
   ]
  },
  {
   "cell_type": "code",
   "execution_count": 3,
   "metadata": {},
   "outputs": [
    {
     "name": "stdout",
     "output_type": "stream",
     "text": [
      "Tucson           435945.540454\n",
      "Albuquerque      449905.103839\n",
      "San Francisco    393749.728807\n",
      "Berlin           243230.970659\n",
      "dtype: float64\n"
     ]
    },
    {
     "data": {
      "text/plain": [
       "Text(0, 0.5, 'Yearly energy yield (W hr)')"
      ]
     },
     "execution_count": 3,
     "metadata": {},
     "output_type": "execute_result"
    },
    {
     "data": {
      "image/png": "[encoded data removed]",
      "text/plain": [
       "<Figure size 640x480 with 1 Axes>"
      ]
     },
     "metadata": {},
     "output_type": "display_data"
    }
   ],
   "source": [
    "# %% Modeling paradigms - Object oriented\n",
    "energies = {}\n",
    "\n",
    "for location, weather in zip(coordinates, tmys):\n",
    "    latitude, longitude, name, altitude, timezone = location\n",
    "    location = Location(\n",
    "        latitude,\n",
    "        longitude,\n",
    "        name=name,\n",
    "        altitude=altitude,\n",
    "        tz=timezone,\n",
    "    )\n",
    "    mount = FixedMount(surface_tilt=latitude, surface_azimuth=180)\n",
    "    array = Array(\n",
    "        mount=mount,\n",
    "        module_parameters=module,\n",
    "        temperature_model_parameters=temperature_model_parameters,\n",
    "    )\n",
    "    system = PVSystem(arrays=[array], inverter_parameters=inverter)\n",
    "    mc = ModelChain(system, location)\n",
    "    mc.run_model(weather)\n",
    "    annual_energy = mc.results.ac.sum()\n",
    "    energies[name] = annual_energy\n",
    "\n",
    "\n",
    "energies = pd.Series(energies)\n",
    "\n",
    "# Output\n",
    "# based on the parameters specified above, these are in W*hrs\n",
    "print(energies)\n",
    "energies.plot(kind='bar', rot=0)\n",
    "plt.ylabel('Yearly energy yield (W hr)')"
   ]
  },
  {
   "cell_type": "markdown",
   "metadata": {},
   "source": [
    "## PVSystem and Arrays\n",
    "https://pvlib-python.readthedocs.io/en/stable/user_guide/pvsystem.html#pvsystem-and-arrays"
   ]
  },
  {
   "cell_type": "code",
   "execution_count": 5,
   "metadata": {},
   "outputs": [
    {
     "name": "stdout",
     "output_type": "stream",
     "text": [
      "[{'pdc0': 5000, 'gamma_pdc': -0.004}, {'pdc0': 5000, 'gamma_pdc': -0.004}]\n",
      "{'pdc0': 5000, 'eta_inv_nom': 0.96}\n"
     ]
    }
   ],
   "source": [
    "module_parameters = {'pdc0': 5000, 'gamma_pdc': -0.004}\n",
    "inverter_parameters = {'pdc0': 5000, 'eta_inv_nom': 0.96}\n",
    "\n",
    "mount = FixedMount(surface_tilt=20, surface_azimuth=180)\n",
    "\n",
    "array_one = Array(mount=mount, module_parameters=module_parameters)\n",
    "\n",
    "array_two = Array(mount=mount, module_parameters=module_parameters)\n",
    "\n",
    "system_two_arrays = PVSystem(arrays=[array_one, array_two],\n",
    "                                      inverter_parameters=inverter_parameters)\n",
    "\n",
    "\n",
    "print([array.module_parameters for array in system_two_arrays.arrays])\n",
    "print(system_two_arrays.inverter_parameters)\n"
   ]
  },
  {
   "cell_type": "code",
   "execution_count": 7,
   "metadata": {},
   "outputs": [
    {
     "data": {
      "text/plain": [
       "5000"
      ]
     },
     "execution_count": 7,
     "metadata": {},
     "output_type": "execute_result"
    }
   ],
   "source": [
    "system_two_arrays.arrays[0].module_parameters['pdc0'] "
   ]
  },
  {
   "cell_type": "markdown",
   "metadata": {},
   "source": [
    "## Model Chain"
   ]
  },
  {
   "cell_type": "code",
   "execution_count": 1,
   "metadata": {},
   "outputs": [
    {
     "name": "stdout",
     "output_type": "stream",
     "text": [
      "ModelChain: \n",
      "  name: None\n",
      "  clearsky_model: ineichen\n",
      "  transposition_model: haydavies\n",
      "  solar_position_method: nrel_numpy\n",
      "  airmass_model: kastenyoung1989\n",
      "  dc_model: sapm\n",
      "  ac_model: sandia_inverter\n",
      "  aoi_model: sapm_aoi_loss\n",
      "  spectral_model: sapm_spectral_loss\n",
      "  temperature_model: sapm_temp\n",
      "  losses_model: no_extra_losses\n"
     ]
    },
    {
     "data": {
      "text/plain": [
       "ModelChain: \n",
       "  name: None\n",
       "  clearsky_model: ineichen\n",
       "  transposition_model: haydavies\n",
       "  solar_position_method: nrel_numpy\n",
       "  airmass_model: kastenyoung1989\n",
       "  dc_model: sapm\n",
       "  ac_model: sandia_inverter\n",
       "  aoi_model: sapm_aoi_loss\n",
       "  spectral_model: sapm_spectral_loss\n",
       "  temperature_model: sapm_temp\n",
       "  losses_model: no_extra_losses"
      ]
     },
     "execution_count": 1,
     "metadata": {},
     "output_type": "execute_result"
    }
   ],
   "source": [
    "import pandas as pd\n",
    "\n",
    "import numpy as np\n",
    "\n",
    "\n",
    "import pvlib\n",
    "\n",
    "from pvlib.pvsystem import PVSystem, FixedMount\n",
    "\n",
    "from pvlib.location import Location\n",
    "\n",
    "from pvlib.modelchain import ModelChain\n",
    "\n",
    "from pvlib.temperature import TEMPERATURE_MODEL_PARAMETERS\n",
    "\n",
    "temperature_model_parameters = TEMPERATURE_MODEL_PARAMETERS['sapm']['open_rack_glass_glass']\n",
    "\n",
    "\n",
    "sandia_modules = pvlib.pvsystem.retrieve_sam('SandiaMod')\n",
    "\n",
    "cec_inverters = pvlib.pvsystem.retrieve_sam('cecinverter')\n",
    "\n",
    "sandia_module = sandia_modules['Canadian_Solar_CS5P_220M___2009_']\n",
    "\n",
    "cec_inverter = cec_inverters['ABB__MICRO_0_25_I_OUTD_US_208__208V_']\n",
    "\n",
    "location = Location(latitude=32.2, longitude=-110.9)\n",
    "\n",
    "system = PVSystem(surface_tilt=20, surface_azimuth=200,\n",
    "                  module_parameters=sandia_module,\n",
    "                  inverter_parameters=cec_inverter,\n",
    "                  temperature_model_parameters=temperature_model_parameters)\n",
    "\n",
    "\n",
    "mc = ModelChain(system, location)\n",
    "\n",
    "print(mc)\n",
    "\n",
    "weather = pd.DataFrame([[1050, 1000, 100, 30, 5]],\n",
    "                       columns=['ghi', 'dni', 'dhi', 'temp_air', 'wind_speed'],\n",
    "                       index=[pd.Timestamp('20170401 1200', tz='US/Arizona')])\n",
    "\n",
    "\n",
    "mc.run_model(weather)\n"
   ]
  },
  {
   "cell_type": "code",
   "execution_count": null,
   "metadata": {},
   "outputs": [],
   "source": []
  }
 ],
 "metadata": {
  "kernelspec": {
   "display_name": ".venv",
   "language": "python",
   "name": "python3"
  },
  "language_info": {
   "codemirror_mode": {
    "name": "ipython",
    "version": 3
   },
   "file_extension": ".py",
   "mimetype": "text/x-python",
   "name": "python",
   "nbconvert_exporter": "python",
   "pygments_lexer": "ipython3",
   "version": "3.12.2"
  }
 },
 "nbformat": 4,
 "nbformat_minor": 2
}
