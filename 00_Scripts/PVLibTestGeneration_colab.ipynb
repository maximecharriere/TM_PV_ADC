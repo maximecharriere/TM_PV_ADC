{
  "cells": [
    {
      "cell_type": "markdown",
      "metadata": {
        "id": "view-in-github",
        "colab_type": "text"
      },
      "source": [
        "<a href=\"https://colab.research.google.com/github/maximecharriere/TM_PV_ADC/blob/main/00_Scripts/PVLibTestGeneration_colab.ipynb\" target=\"_parent\"><img src=\"https://colab.research.google.com/assets/colab-badge.svg\" alt=\"Open In Colab\"/></a>"
      ]
    },
    {
      "cell_type": "markdown",
      "metadata": {
        "id": "IUyx7Q4E4puH"
      },
      "source": [
        "## Importing libraries"
      ]
    },
    {
      "cell_type": "code",
      "source": [
        "!pip install pvlib"
      ],
      "metadata": {
        "id": "e5-VrnUt48if",
        "outputId": "761107c6-48b2-4c94-a40f-0f53321caae7",
        "colab": {
          "base_uri": "https://localhost:8080/"
        }
      },
      "execution_count": 1,
      "outputs": [
        {
          "output_type": "stream",
          "name": "stdout",
          "text": [
            "Collecting pvlib\n",
            "  Downloading pvlib-0.10.4-py3-none-any.whl (29.5 MB)\n",
            "\u001b[2K     \u001b[90m━━━━━━━━━━━━━━━━━━━━━━━━━━━━━━━━━━━━━━━━\u001b[0m \u001b[32m29.5/29.5 MB\u001b[0m \u001b[31m29.4 MB/s\u001b[0m eta \u001b[36m0:00:00\u001b[0m\n",
            "\u001b[?25hRequirement already satisfied: numpy>=1.17.3 in /usr/local/lib/python3.10/dist-packages (from pvlib) (1.25.2)\n",
            "Requirement already satisfied: pandas>=1.3.0 in /usr/local/lib/python3.10/dist-packages (from pvlib) (2.0.3)\n",
            "Requirement already satisfied: pytz in /usr/local/lib/python3.10/dist-packages (from pvlib) (2023.4)\n",
            "Requirement already satisfied: requests in /usr/local/lib/python3.10/dist-packages (from pvlib) (2.31.0)\n",
            "Requirement already satisfied: scipy>=1.5.0 in /usr/local/lib/python3.10/dist-packages (from pvlib) (1.11.4)\n",
            "Requirement already satisfied: h5py in /usr/local/lib/python3.10/dist-packages (from pvlib) (3.9.0)\n",
            "Requirement already satisfied: python-dateutil>=2.8.2 in /usr/local/lib/python3.10/dist-packages (from pandas>=1.3.0->pvlib) (2.8.2)\n",
            "Requirement already satisfied: tzdata>=2022.1 in /usr/local/lib/python3.10/dist-packages (from pandas>=1.3.0->pvlib) (2024.1)\n",
            "Requirement already satisfied: charset-normalizer<4,>=2 in /usr/local/lib/python3.10/dist-packages (from requests->pvlib) (3.3.2)\n",
            "Requirement already satisfied: idna<4,>=2.5 in /usr/local/lib/python3.10/dist-packages (from requests->pvlib) (3.7)\n",
            "Requirement already satisfied: urllib3<3,>=1.21.1 in /usr/local/lib/python3.10/dist-packages (from requests->pvlib) (2.0.7)\n",
            "Requirement already satisfied: certifi>=2017.4.17 in /usr/local/lib/python3.10/dist-packages (from requests->pvlib) (2024.2.2)\n",
            "Requirement already satisfied: six>=1.5 in /usr/local/lib/python3.10/dist-packages (from python-dateutil>=2.8.2->pandas>=1.3.0->pvlib) (1.16.0)\n",
            "Installing collected packages: pvlib\n",
            "Successfully installed pvlib-0.10.4\n"
          ]
        }
      ]
    },
    {
      "cell_type": "code",
      "execution_count": 2,
      "metadata": {
        "id": "e4kpYuvK4puK"
      },
      "outputs": [],
      "source": [
        "import pandas as pd\n",
        "import matplotlib.pyplot as plt\n",
        "import pvlib\n",
        "from pvlib.pvsystem import PVSystem, Array, FixedMount\n",
        "from pvlib.location import Location\n",
        "from pvlib.modelchain import ModelChain"
      ]
    },
    {
      "cell_type": "markdown",
      "metadata": {
        "id": "5Js7_0kL4puM"
      },
      "source": [
        "## Modeling paradigms\n",
        "https://pvlib-python.readthedocs.io/en/stable/user_guide/introtutorial.html#modeling-paradigms"
      ]
    },
    {
      "cell_type": "code",
      "execution_count": null,
      "metadata": {
        "id": "3To1r23B4puN"
      },
      "outputs": [],
      "source": [
        "# %% Modeling paradigms - Setup\n",
        "\n",
        "# latitude, longitude, name, altitude, timezone\n",
        "coordinates = [\n",
        "    (32.2, -111.0, 'Tucson', 700, 'Etc/GMT+7'),\n",
        "    (35.1, -106.6, 'Albuquerque', 1500, 'Etc/GMT+7'),\n",
        "    (37.8, -122.4, 'San Francisco', 10, 'Etc/GMT+8'),\n",
        "    (52.5, 13.4, 'Berlin', 34, 'Etc/GMT-1'),\n",
        "]\n",
        "\n",
        "# get the module and inverter specifications from SAM\n",
        "sandia_modules = pvlib.pvsystem.retrieve_sam('SandiaMod')\n",
        "sapm_inverters = pvlib.pvsystem.retrieve_sam('cecinverter')\n",
        "module = sandia_modules['Canadian_Solar_CS5P_220M___2009_']\n",
        "inverter = sapm_inverters['ABB__MICRO_0_25_I_OUTD_US_208__208V_']\n",
        "temperature_model_parameters = pvlib.temperature.TEMPERATURE_MODEL_PARAMETERS['sapm']['open_rack_glass_glass']\n",
        "\n",
        "tmys = []\n",
        "for location in coordinates:\n",
        "    latitude, longitude, name, altitude, timezone = location\n",
        "    weather = pvlib.iotools.get_pvgis_tmy(latitude, longitude)[0]\n",
        "    weather.index.name = \"utc_time\"\n",
        "    tmys.append(weather)"
      ]
    },
    {
      "cell_type": "code",
      "execution_count": null,
      "metadata": {
        "id": "zPqNkpOq4puN",
        "outputId": "5fbf0473-73ea-4b64-f924-662adccaab16"
      },
      "outputs": [
        {
          "name": "stdout",
          "output_type": "stream",
          "text": [
            "Tucson           435945.540454\n",
            "Albuquerque      449905.103839\n",
            "San Francisco    393749.728807\n",
            "Berlin           243230.970659\n",
            "dtype: float64\n"
          ]
        },
        {
          "data": {
            "text/plain": [
              "Text(0, 0.5, 'Yearly energy yield (W hr)')"
            ]
          },
          "execution_count": 3,
          "metadata": {},
          "output_type": "execute_result"
        },
        {
          "data": {
            "image/png": "[encoded data removed]",
            "text/plain": [
              "<Figure size 640x480 with 1 Axes>"
            ]
          },
          "metadata": {},
          "output_type": "display_data"
        }
      ],
      "source": [
        "# %% Modeling paradigms - Object oriented\n",
        "energies = {}\n",
        "\n",
        "for location, weather in zip(coordinates, tmys):\n",
        "    latitude, longitude, name, altitude, timezone = location\n",
        "    location = Location(\n",
        "        latitude,\n",
        "        longitude,\n",
        "        name=name,\n",
        "        altitude=altitude,\n",
        "        tz=timezone,\n",
        "    )\n",
        "    mount = FixedMount(surface_tilt=latitude, surface_azimuth=180)\n",
        "    array = Array(\n",
        "        mount=mount,\n",
        "        module_parameters=module,\n",
        "        temperature_model_parameters=temperature_model_parameters,\n",
        "    )\n",
        "    system = PVSystem(arrays=[array], inverter_parameters=inverter)\n",
        "    mc = ModelChain(system, location)\n",
        "    mc.run_model(weather)\n",
        "    annual_energy = mc.results.ac.sum()\n",
        "    energies[name] = annual_energy\n",
        "\n",
        "\n",
        "energies = pd.Series(energies)\n",
        "\n",
        "# Output\n",
        "# based on the parameters specified above, these are in W*hrs\n",
        "print(energies)\n",
        "energies.plot(kind='bar', rot=0)\n",
        "plt.ylabel('Yearly energy yield (W hr)')"
      ]
    },
    {
      "cell_type": "markdown",
      "metadata": {
        "id": "7h3EO_Jg4puO"
      },
      "source": [
        "## PVSystem and Arrays\n",
        "https://pvlib-python.readthedocs.io/en/stable/user_guide/pvsystem.html#pvsystem-and-arrays"
      ]
    },
    {
      "cell_type": "code",
      "execution_count": null,
      "metadata": {
        "id": "DJGXz1e64puP",
        "outputId": "49933b67-63b5-4519-ace3-57293a39ff36"
      },
      "outputs": [
        {
          "name": "stdout",
          "output_type": "stream",
          "text": [
            "[{'pdc0': 5000, 'gamma_pdc': -0.004}, {'pdc0': 5000, 'gamma_pdc': -0.004}]\n",
            "{'pdc0': 5000, 'eta_inv_nom': 0.96}\n"
          ]
        }
      ],
      "source": [
        "module_parameters = {'pdc0': 5000, 'gamma_pdc': -0.004}\n",
        "inverter_parameters = {'pdc0': 5000, 'eta_inv_nom': 0.96}\n",
        "\n",
        "mount = FixedMount(surface_tilt=20, surface_azimuth=180)\n",
        "\n",
        "array_one = Array(mount=mount, module_parameters=module_parameters)\n",
        "\n",
        "array_two = Array(mount=mount, module_parameters=module_parameters)\n",
        "\n",
        "system_two_arrays = PVSystem(arrays=[array_one, array_two],\n",
        "                                      inverter_parameters=inverter_parameters)\n",
        "\n",
        "\n",
        "print([array.module_parameters for array in system_two_arrays.arrays])\n",
        "print(system_two_arrays.inverter_parameters)\n"
      ]
    },
    {
      "cell_type": "code",
      "execution_count": null,
      "metadata": {
        "id": "Hx1x_d2g4puP",
        "outputId": "cfcab8d4-5ef4-4b98-a9b9-39582c46d9cf"
      },
      "outputs": [
        {
          "data": {
            "text/plain": [
              "5000"
            ]
          },
          "execution_count": 7,
          "metadata": {},
          "output_type": "execute_result"
        }
      ],
      "source": [
        "system_two_arrays.arrays[0].module_parameters['pdc0']"
      ]
    },
    {
      "cell_type": "markdown",
      "metadata": {
        "id": "5zyH6dAv4puP"
      },
      "source": [
        "## Model Chain"
      ]
    },
    {
      "cell_type": "code",
      "execution_count": null,
      "metadata": {
        "id": "e556Q5iT4puQ",
        "outputId": "c05bfcd9-43db-4578-c5d6-5cc7162ad73a",
        "colab": {
          "base_uri": "https://localhost:8080/"
        }
      },
      "outputs": [
        {
          "output_type": "stream",
          "name": "stdout",
          "text": [
            "ModelChain: \n",
            "  name: None\n",
            "  clearsky_model: ineichen\n",
            "  transposition_model: haydavies\n",
            "  solar_position_method: nrel_numpy\n",
            "  airmass_model: kastenyoung1989\n",
            "  dc_model: sapm\n",
            "  ac_model: sandia_inverter\n",
            "  aoi_model: sapm_aoi_loss\n",
            "  spectral_model: sapm_spectral_loss\n",
            "  temperature_model: sapm_temp\n",
            "  losses_model: no_extra_losses\n"
          ]
        },
        {
          "output_type": "execute_result",
          "data": {
            "text/plain": [
              "ModelChain: \n",
              "  name: None\n",
              "  clearsky_model: ineichen\n",
              "  transposition_model: haydavies\n",
              "  solar_position_method: nrel_numpy\n",
              "  airmass_model: kastenyoung1989\n",
              "  dc_model: sapm\n",
              "  ac_model: sandia_inverter\n",
              "  aoi_model: sapm_aoi_loss\n",
              "  spectral_model: sapm_spectral_loss\n",
              "  temperature_model: sapm_temp\n",
              "  losses_model: no_extra_losses"
            ]
          },
          "metadata": {},
          "execution_count": 20
        }
      ],
      "source": [
        "import pandas as pd\n",
        "\n",
        "import numpy as np\n",
        "\n",
        "\n",
        "import pvlib\n",
        "\n",
        "from pvlib.pvsystem import PVSystem, FixedMount\n",
        "\n",
        "from pvlib.location import Location\n",
        "\n",
        "from pvlib.modelchain import ModelChain\n",
        "\n",
        "from pvlib.temperature import TEMPERATURE_MODEL_PARAMETERS\n",
        "\n",
        "temperature_model_parameters = TEMPERATURE_MODEL_PARAMETERS['sapm']['open_rack_glass_glass']\n",
        "\n",
        "\n",
        "sandia_modules = pvlib.pvsystem.retrieve_sam('SandiaMod')\n",
        "\n",
        "cec_inverters = pvlib.pvsystem.retrieve_sam('cecinverter')\n",
        "\n",
        "sandia_module = sandia_modules['Canadian_Solar_CS5P_220M___2009_']\n",
        "\n",
        "cec_inverter = cec_inverters['ABB__MICRO_0_25_I_OUTD_US_208__208V_']\n",
        "\n",
        "location = Location(latitude=32.2, longitude=-110.9)\n",
        "\n",
        "system = PVSystem(surface_tilt=20, surface_azimuth=200,\n",
        "                  module_parameters=sandia_module,\n",
        "                  inverter_parameters=cec_inverter,\n",
        "                  temperature_model_parameters=temperature_model_parameters)\n",
        "\n",
        "\n",
        "mc = ModelChain(system, location)\n",
        "\n",
        "print(mc)\n",
        "\n",
        "weather = pd.DataFrame([[1050, 1000, 100, 30, 5]],\n",
        "                       columns=['ghi', 'dni', 'dhi', 'temp_air', 'wind_speed'],\n",
        "                       index=[pd.Timestamp('20170401 1200', tz='US/Arizona')])\n",
        "\n",
        "\n",
        "mc.run_model(weather)\n"
      ]
    },
    {
      "cell_type": "markdown",
      "source": [],
      "metadata": {
        "id": "RwBX23c79Hi1"
      }
    },
    {
      "cell_type": "markdown",
      "source": [
        "## Tiergarten_Ost Simulation"
      ],
      "metadata": {
        "id": "EUt9V4L59IVj"
      }
    },
    {
      "cell_type": "code",
      "execution_count": 4,
      "metadata": {
        "id": "M8jiqwqb4puR"
      },
      "outputs": [],
      "source": [
        "location = Location(latitude=47.062365389967134, longitude=7.614255071260409, altitude=533, tz='Europe/Zurich', name='Tiergarten_Ost')\n"
      ]
    },
    {
      "cell_type": "code",
      "source": [
        "times = pd.date_range(start='2023-01-01', end='2023-12-31', freq='1h', tz='Europe/Zurich')\n",
        "\n",
        "cs = location.get_clearsky(times)  # ineichen with climatology table by default\n"
      ],
      "metadata": {
        "id": "-pPaZntFeBtN"
      },
      "execution_count": 10,
      "outputs": []
    },
    {
      "cell_type": "code",
      "source": [
        "cs_daily_energy = cs.groupby(cs.index.date).sum()"
      ],
      "metadata": {
        "id": "78hGS4jET3GV"
      },
      "execution_count": 23,
      "outputs": []
    },
    {
      "cell_type": "code",
      "source": [
        "cs_daily_energy"
      ],
      "metadata": {
        "colab": {
          "base_uri": "https://localhost:8080/",
          "height": 424
        },
        "id": "Gv5HTOZfWyWa",
        "outputId": "5ddecafa-23ee-493f-9030-4e02ba3e022a"
      },
      "execution_count": 24,
      "outputs": [
        {
          "output_type": "execute_result",
          "data": {
            "text/plain": [
              "                    ghi          dni         dhi\n",
              "2023-01-01  1543.868749  5086.306539  219.147877\n",
              "2023-01-02  1555.968785  5108.191738  220.012289\n",
              "2023-01-03  1569.103521  5131.489635  220.972392\n",
              "2023-01-04  1583.269884  5156.152405  222.026484\n",
              "2023-01-05  1598.464477  5182.129672  223.172796\n",
              "...                 ...          ...         ...\n",
              "2023-12-27  1497.603319  4997.208768  216.171387\n",
              "2023-12-28  1504.240814  5011.018729  216.508971\n",
              "2023-12-29  1511.918904  5026.432612  216.949258\n",
              "2023-12-30  1520.637493  5043.421937  217.491148\n",
              "2023-12-31     0.000000     0.000000    0.000000\n",
              "\n",
              "[365 rows x 3 columns]"
            ],
            "text/html": [
              "\n",
              "  <div id=\"df-12fb713a-3da5-4073-84a5-19667ade9235\" class=\"colab-df-container\">\n",
              "    <div>\n",
              "<style scoped>\n",
              "    .dataframe tbody tr th:only-of-type {\n",
              "        vertical-align: middle;\n",
              "    }\n",
              "\n",
              "    .dataframe tbody tr th {\n",
              "        vertical-align: top;\n",
              "    }\n",
              "\n",
              "    .dataframe thead th {\n",
              "        text-align: right;\n",
              "    }\n",
              "</style>\n",
              "<table border=\"1\" class=\"dataframe\">\n",
              "  <thead>\n",
              "    <tr style=\"text-align: right;\">\n",
              "      <th></th>\n",
              "      <th>ghi</th>\n",
              "      <th>dni</th>\n",
              "      <th>dhi</th>\n",
              "    </tr>\n",
              "  </thead>\n",
              "  <tbody>\n",
              "    <tr>\n",
              "      <th>2023-01-01</th>\n",
              "      <td>1543.868749</td>\n",
              "      <td>5086.306539</td>\n",
              "      <td>219.147877</td>\n",
              "    </tr>\n",
              "    <tr>\n",
              "      <th>2023-01-02</th>\n",
              "      <td>1555.968785</td>\n",
              "      <td>5108.191738</td>\n",
              "      <td>220.012289</td>\n",
              "    </tr>\n",
              "    <tr>\n",
              "      <th>2023-01-03</th>\n",
              "      <td>1569.103521</td>\n",
              "      <td>5131.489635</td>\n",
              "      <td>220.972392</td>\n",
              "    </tr>\n",
              "    <tr>\n",
              "      <th>2023-01-04</th>\n",
              "      <td>1583.269884</td>\n",
              "      <td>5156.152405</td>\n",
              "      <td>222.026484</td>\n",
              "    </tr>\n",
              "    <tr>\n",
              "      <th>2023-01-05</th>\n",
              "      <td>1598.464477</td>\n",
              "      <td>5182.129672</td>\n",
              "      <td>223.172796</td>\n",
              "    </tr>\n",
              "    <tr>\n",
              "      <th>...</th>\n",
              "      <td>...</td>\n",
              "      <td>...</td>\n",
              "      <td>...</td>\n",
              "    </tr>\n",
              "    <tr>\n",
              "      <th>2023-12-27</th>\n",
              "      <td>1497.603319</td>\n",
              "      <td>4997.208768</td>\n",
              "      <td>216.171387</td>\n",
              "    </tr>\n",
              "    <tr>\n",
              "      <th>2023-12-28</th>\n",
              "      <td>1504.240814</td>\n",
              "      <td>5011.018729</td>\n",
              "      <td>216.508971</td>\n",
              "    </tr>\n",
              "    <tr>\n",
              "      <th>2023-12-29</th>\n",
              "      <td>1511.918904</td>\n",
              "      <td>5026.432612</td>\n",
              "      <td>216.949258</td>\n",
              "    </tr>\n",
              "    <tr>\n",
              "      <th>2023-12-30</th>\n",
              "      <td>1520.637493</td>\n",
              "      <td>5043.421937</td>\n",
              "      <td>217.491148</td>\n",
              "    </tr>\n",
              "    <tr>\n",
              "      <th>2023-12-31</th>\n",
              "      <td>0.000000</td>\n",
              "      <td>0.000000</td>\n",
              "      <td>0.000000</td>\n",
              "    </tr>\n",
              "  </tbody>\n",
              "</table>\n",
              "<p>365 rows × 3 columns</p>\n",
              "</div>\n",
              "    <div class=\"colab-df-buttons\">\n",
              "\n",
              "  <div class=\"colab-df-container\">\n",
              "    <button class=\"colab-df-convert\" onclick=\"convertToInteractive('df-12fb713a-3da5-4073-84a5-19667ade9235')\"\n",
              "            title=\"Convert this dataframe to an interactive table.\"\n",
              "            style=\"display:none;\">\n",
              "\n",
              "  <svg xmlns=\"http://www.w3.org/2000/svg\" height=\"24px\" viewBox=\"0 -960 960 960\">\n",
              "    <path d=\"M120-120v-720h720v720H120Zm60-500h600v-160H180v160Zm220 220h160v-160H400v160Zm0 220h160v-160H400v160ZM180-400h160v-160H180v160Zm440 0h160v-160H620v160ZM180-180h160v-160H180v160Zm440 0h160v-160H620v160Z\"/>\n",
              "  </svg>\n",
              "    </button>\n",
              "\n",
              "  <style>\n",
              "    .colab-df-container {\n",
              "      display:flex;\n",
              "      gap: 12px;\n",
              "    }\n",
              "\n",
              "    .colab-df-convert {\n",
              "      background-color: #E8F0FE;\n",
              "      border: none;\n",
              "      border-radius: 50%;\n",
              "      cursor: pointer;\n",
              "      display: none;\n",
              "      fill: #1967D2;\n",
              "      height: 32px;\n",
              "      padding: 0 0 0 0;\n",
              "      width: 32px;\n",
              "    }\n",
              "\n",
              "    .colab-df-convert:hover {\n",
              "      background-color: #E2EBFA;\n",
              "      box-shadow: 0px 1px 2px rgba(60, 64, 67, 0.3), 0px 1px 3px 1px rgba(60, 64, 67, 0.15);\n",
              "      fill: #174EA6;\n",
              "    }\n",
              "\n",
              "    .colab-df-buttons div {\n",
              "      margin-bottom: 4px;\n",
              "    }\n",
              "\n",
              "    [theme=dark] .colab-df-convert {\n",
              "      background-color: #3B4455;\n",
              "      fill: #D2E3FC;\n",
              "    }\n",
              "\n",
              "    [theme=dark] .colab-df-convert:hover {\n",
              "      background-color: #434B5C;\n",
              "      box-shadow: 0px 1px 3px 1px rgba(0, 0, 0, 0.15);\n",
              "      filter: drop-shadow(0px 1px 2px rgba(0, 0, 0, 0.3));\n",
              "      fill: #FFFFFF;\n",
              "    }\n",
              "  </style>\n",
              "\n",
              "    <script>\n",
              "      const buttonEl =\n",
              "        document.querySelector('#df-12fb713a-3da5-4073-84a5-19667ade9235 button.colab-df-convert');\n",
              "      buttonEl.style.display =\n",
              "        google.colab.kernel.accessAllowed ? 'block' : 'none';\n",
              "\n",
              "      async function convertToInteractive(key) {\n",
              "        const element = document.querySelector('#df-12fb713a-3da5-4073-84a5-19667ade9235');\n",
              "        const dataTable =\n",
              "          await google.colab.kernel.invokeFunction('convertToInteractive',\n",
              "                                                    [key], {});\n",
              "        if (!dataTable) return;\n",
              "\n",
              "        const docLinkHtml = 'Like what you see? Visit the ' +\n",
              "          '<a target=\"_blank\" href=https://colab.research.google.com/notebooks/data_table.ipynb>data table notebook</a>'\n",
              "          + ' to learn more about interactive tables.';\n",
              "        element.innerHTML = '';\n",
              "        dataTable['output_type'] = 'display_data';\n",
              "        await google.colab.output.renderOutput(dataTable, element);\n",
              "        const docLink = document.createElement('div');\n",
              "        docLink.innerHTML = docLinkHtml;\n",
              "        element.appendChild(docLink);\n",
              "      }\n",
              "    </script>\n",
              "  </div>\n",
              "\n",
              "\n",
              "<div id=\"df-9de80715-e0c4-40be-9296-bb550da899f7\">\n",
              "  <button class=\"colab-df-quickchart\" onclick=\"quickchart('df-9de80715-e0c4-40be-9296-bb550da899f7')\"\n",
              "            title=\"Suggest charts\"\n",
              "            style=\"display:none;\">\n",
              "\n",
              "<svg xmlns=\"http://www.w3.org/2000/svg\" height=\"24px\"viewBox=\"0 0 24 24\"\n",
              "     width=\"24px\">\n",
              "    <g>\n",
              "        <path d=\"M19 3H5c-1.1 0-2 .9-2 2v14c0 1.1.9 2 2 2h14c1.1 0 2-.9 2-2V5c0-1.1-.9-2-2-2zM9 17H7v-7h2v7zm4 0h-2V7h2v10zm4 0h-2v-4h2v4z\"/>\n",
              "    </g>\n",
              "</svg>\n",
              "  </button>\n",
              "\n",
              "<style>\n",
              "  .colab-df-quickchart {\n",
              "      --bg-color: #E8F0FE;\n",
              "      --fill-color: #1967D2;\n",
              "      --hover-bg-color: #E2EBFA;\n",
              "      --hover-fill-color: #174EA6;\n",
              "      --disabled-fill-color: #AAA;\n",
              "      --disabled-bg-color: #DDD;\n",
              "  }\n",
              "\n",
              "  [theme=dark] .colab-df-quickchart {\n",
              "      --bg-color: #3B4455;\n",
              "      --fill-color: #D2E3FC;\n",
              "      --hover-bg-color: #434B5C;\n",
              "      --hover-fill-color: #FFFFFF;\n",
              "      --disabled-bg-color: #3B4455;\n",
              "      --disabled-fill-color: #666;\n",
              "  }\n",
              "\n",
              "  .colab-df-quickchart {\n",
              "    background-color: var(--bg-color);\n",
              "    border: none;\n",
              "    border-radius: 50%;\n",
              "    cursor: pointer;\n",
              "    display: none;\n",
              "    fill: var(--fill-color);\n",
              "    height: 32px;\n",
              "    padding: 0;\n",
              "    width: 32px;\n",
              "  }\n",
              "\n",
              "  .colab-df-quickchart:hover {\n",
              "    background-color: var(--hover-bg-color);\n",
              "    box-shadow: 0 1px 2px rgba(60, 64, 67, 0.3), 0 1px 3px 1px rgba(60, 64, 67, 0.15);\n",
              "    fill: var(--button-hover-fill-color);\n",
              "  }\n",
              "\n",
              "  .colab-df-quickchart-complete:disabled,\n",
              "  .colab-df-quickchart-complete:disabled:hover {\n",
              "    background-color: var(--disabled-bg-color);\n",
              "    fill: var(--disabled-fill-color);\n",
              "    box-shadow: none;\n",
              "  }\n",
              "\n",
              "  .colab-df-spinner {\n",
              "    border: 2px solid var(--fill-color);\n",
              "    border-color: transparent;\n",
              "    border-bottom-color: var(--fill-color);\n",
              "    animation:\n",
              "      spin 1s steps(1) infinite;\n",
              "  }\n",
              "\n",
              "  @keyframes spin {\n",
              "    0% {\n",
              "      border-color: transparent;\n",
              "      border-bottom-color: var(--fill-color);\n",
              "      border-left-color: var(--fill-color);\n",
              "    }\n",
              "    20% {\n",
              "      border-color: transparent;\n",
              "      border-left-color: var(--fill-color);\n",
              "      border-top-color: var(--fill-color);\n",
              "    }\n",
              "    30% {\n",
              "      border-color: transparent;\n",
              "      border-left-color: var(--fill-color);\n",
              "      border-top-color: var(--fill-color);\n",
              "      border-right-color: var(--fill-color);\n",
              "    }\n",
              "    40% {\n",
              "      border-color: transparent;\n",
              "      border-right-color: var(--fill-color);\n",
              "      border-top-color: var(--fill-color);\n",
              "    }\n",
              "    60% {\n",
              "      border-color: transparent;\n",
              "      border-right-color: var(--fill-color);\n",
              "    }\n",
              "    80% {\n",
              "      border-color: transparent;\n",
              "      border-right-color: var(--fill-color);\n",
              "      border-bottom-color: var(--fill-color);\n",
              "    }\n",
              "    90% {\n",
              "      border-color: transparent;\n",
              "      border-bottom-color: var(--fill-color);\n",
              "    }\n",
              "  }\n",
              "</style>\n",
              "\n",
              "  <script>\n",
              "    async function quickchart(key) {\n",
              "      const quickchartButtonEl =\n",
              "        document.querySelector('#' + key + ' button');\n",
              "      quickchartButtonEl.disabled = true;  // To prevent multiple clicks.\n",
              "      quickchartButtonEl.classList.add('colab-df-spinner');\n",
              "      try {\n",
              "        const charts = await google.colab.kernel.invokeFunction(\n",
              "            'suggestCharts', [key], {});\n",
              "      } catch (error) {\n",
              "        console.error('Error during call to suggestCharts:', error);\n",
              "      }\n",
              "      quickchartButtonEl.classList.remove('colab-df-spinner');\n",
              "      quickchartButtonEl.classList.add('colab-df-quickchart-complete');\n",
              "    }\n",
              "    (() => {\n",
              "      let quickchartButtonEl =\n",
              "        document.querySelector('#df-9de80715-e0c4-40be-9296-bb550da899f7 button');\n",
              "      quickchartButtonEl.style.display =\n",
              "        google.colab.kernel.accessAllowed ? 'block' : 'none';\n",
              "    })();\n",
              "  </script>\n",
              "</div>\n",
              "    </div>\n",
              "  </div>\n"
            ],
            "application/vnd.google.colaboratory.intrinsic+json": {
              "type": "dataframe",
              "variable_name": "cs_daily_energy",
              "summary": "{\n  \"name\": \"cs_daily_energy\",\n  \"rows\": 365,\n  \"fields\": [\n    {\n      \"column\": \"ghi\",\n      \"properties\": {\n        \"dtype\": \"number\",\n        \"std\": 2360.212872571922,\n        \"min\": 0.0,\n        \"max\": 8065.293929905668,\n        \"num_unique_values\": 365,\n        \"samples\": [\n          7782.790340735956,\n          2321.423196938736,\n          1828.925682971681\n        ],\n        \"semantic_type\": \"\",\n        \"description\": \"\"\n      }\n    },\n    {\n      \"column\": \"dni\",\n      \"properties\": {\n        \"dtype\": \"number\",\n        \"std\": 1827.593421649872,\n        \"min\": 0.0,\n        \"max\": 9927.176476415996,\n        \"num_unique_values\": 365,\n        \"samples\": [\n          9505.453165787116,\n          5460.6812919111535,\n          5534.098690992894\n        ],\n        \"semantic_type\": \"\",\n        \"description\": \"\"\n      }\n    },\n    {\n      \"column\": \"dhi\",\n      \"properties\": {\n        \"dtype\": \"number\",\n        \"std\": 432.329818616574,\n        \"min\": 0.0,\n        \"max\": 1448.5596272980438,\n        \"num_unique_values\": 365,\n        \"samples\": [\n          1434.7917099805104,\n          444.41019691192116,\n          245.52503654743896\n        ],\n        \"semantic_type\": \"\",\n        \"description\": \"\"\n      }\n    }\n  ]\n}"
            }
          },
          "metadata": {},
          "execution_count": 24
        }
      ]
    },
    {
      "cell_type": "code",
      "source": [
        "cs_daily_energy['ghi'].plot();\n",
        "\n",
        "plt.ylabel('Daily Irradiance $Wh/m^2$');\n",
        "\n",
        "plt.title('GHI Irradiance, Ineichen model');"
      ],
      "metadata": {
        "colab": {
          "base_uri": "https://localhost:8080/",
          "height": 452
        },
        "id": "Rbi4hl1vTqdQ",
        "outputId": "2da2d1d1-f5ca-4ac2-ecbf-09a6f92db7e2"
      },
      "execution_count": 28,
      "outputs": [
        {
          "output_type": "display_data",
          "data": {
            "text/plain": [
              "<Figure size 640x480 with 1 Axes>"
            ],
            "image/png": "[encoded data removed]"
          },
          "metadata": {}
        }
      ]
    },
    {
      "cell_type": "code",
      "source": [
        "#import the database\n",
        "modules_database = pvlib.pvsystem.retrieve_sam(name='SandiaMod')\n",
        "inverters_database = pvlib.pvsystem.retrieve_sam(name='cecinverter')"
      ],
      "metadata": {
        "id": "T_uhAIZbHHfZ"
      },
      "execution_count": null,
      "outputs": []
    },
    {
      "cell_type": "code",
      "source": [],
      "metadata": {
        "id": "42v-33O0TpQs"
      },
      "execution_count": null,
      "outputs": []
    },
    {
      "cell_type": "code",
      "source": [
        "system = PVSystem(surface_tilt=30, surface_azimuth=241,\n",
        "                  module_parameters=modules_database['Siemens_Solar_SM55__2002__E__'],\n",
        "                  inverter_parameters= {'pdc0': 5000, 'eta_inv_nom': 0.96},\n",
        "                  temperature_model_parameters=temperature_model_parameters)"
      ],
      "metadata": {
        "id": "O7Q6fUEQ8yNN"
      },
      "execution_count": null,
      "outputs": []
    },
    {
      "cell_type": "markdown",
      "source": [
        "## PVLib pvwatts inverter model\n",
        "\n",
        "This plot show the efficiency of a default inverter, depending of its reference DC power"
      ],
      "metadata": {
        "id": "pDGu6PGRkf7q"
      }
    },
    {
      "cell_type": "code",
      "source": [
        "# Generate a range of values for Pdc and Pdc0\n",
        "load = np.linspace(0.00001, 1.2, 100)\n",
        "Pdc0 = np.ones(load.shape)*1000\n",
        "Pdc = Pdc0*load\n",
        "Pac = pvlib.inverter.pvwatts(pdc=Pdc, pdc0=Pdc0)\n",
        "n = Pac/Pdc\n"
      ],
      "metadata": {
        "id": "YwlFae_yb7w2"
      },
      "execution_count": 68,
      "outputs": []
    },
    {
      "cell_type": "code",
      "source": [
        "plt.plot(load, n, label='Inverter Efficiency')\n",
        "plt.title('Inverter Efficiency vs Load')\n",
        "plt.xlabel('Load (Pdc/Pdc0)')\n",
        "plt.ylabel('Efficiency (Pac/Pdc)')\n",
        "plt.grid(True)\n",
        "plt.show()"
      ],
      "metadata": {
        "colab": {
          "base_uri": "https://localhost:8080/",
          "height": 472
        },
        "id": "M4CNzSC4iI3l",
        "outputId": "e1e6e37e-67ef-40de-84ea-6b7a21516401"
      },
      "execution_count": 72,
      "outputs": [
        {
          "output_type": "display_data",
          "data": {
            "text/plain": [
              "<Figure size 640x480 with 1 Axes>"
            ],
            "image/png": "[encoded data removed]"
          },
          "metadata": {}
        }
      ]
    },
    {
      "cell_type": "code",
      "source": [],
      "metadata": {
        "id": "HlpSKiPSj5RE"
      },
      "execution_count": null,
      "outputs": []
    }
  ],
  "metadata": {
    "kernelspec": {
      "display_name": ".venv",
      "language": "python",
      "name": "python3"
    },
    "language_info": {
      "codemirror_mode": {
        "name": "ipython",
        "version": 3
      },
      "file_extension": ".py",
      "mimetype": "text/x-python",
      "name": "python",
      "nbconvert_exporter": "python",
      "pygments_lexer": "ipython3",
      "version": "3.12.2"
    },
    "colab": {
      "provenance": [],
      "include_colab_link": true
    }
  },
  "nbformat": 4,
  "nbformat_minor": 0
}