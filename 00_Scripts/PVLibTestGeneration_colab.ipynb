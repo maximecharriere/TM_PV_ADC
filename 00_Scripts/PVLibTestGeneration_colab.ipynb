{
  "cells": [
    {
      "cell_type": "markdown",
      "metadata": {
        "id": "view-in-github",
        "colab_type": "text"
      },
      "source": [
        "<a href=\"https://colab.research.google.com/github/maximecharriere/TM_PV_ADC/blob/main/00_Scripts/PVLibTestGeneration_colab.ipynb\" target=\"_parent\"><img src=\"https://colab.research.google.com/assets/colab-badge.svg\" alt=\"Open In Colab\"/></a>"
      ]
    },
    {
      "cell_type": "markdown",
      "metadata": {
        "id": "IUyx7Q4E4puH"
      },
      "source": [
        "## Importing libraries"
      ]
    },
    {
      "cell_type": "code",
      "source": [
        "!pip install pvlib"
      ],
      "metadata": {
        "id": "e5-VrnUt48if",
        "outputId": "95add099-615e-4ba0-e505-4266533e7f42",
        "colab": {
          "base_uri": "https://localhost:8080/"
        }
      },
      "execution_count": 2,
      "outputs": [
        {
          "output_type": "stream",
          "name": "stdout",
          "text": [
            "Collecting pvlib\n",
            "  Downloading pvlib-0.10.4-py3-none-any.whl (29.5 MB)\n",
            "\u001b[2K     \u001b[90m━━━━━━━━━━━━━━━━━━━━━━━━━━━━━━━━━━━━━━━━\u001b[0m \u001b[32m29.5/29.5 MB\u001b[0m \u001b[31m43.4 MB/s\u001b[0m eta \u001b[36m0:00:00\u001b[0m\n",
            "\u001b[?25hRequirement already satisfied: numpy>=1.17.3 in /usr/local/lib/python3.10/dist-packages (from pvlib) (1.25.2)\n",
            "Requirement already satisfied: pandas>=1.3.0 in /usr/local/lib/python3.10/dist-packages (from pvlib) (2.0.3)\n",
            "Requirement already satisfied: pytz in /usr/local/lib/python3.10/dist-packages (from pvlib) (2023.4)\n",
            "Requirement already satisfied: requests in /usr/local/lib/python3.10/dist-packages (from pvlib) (2.31.0)\n",
            "Requirement already satisfied: scipy>=1.5.0 in /usr/local/lib/python3.10/dist-packages (from pvlib) (1.11.4)\n",
            "Requirement already satisfied: h5py in /usr/local/lib/python3.10/dist-packages (from pvlib) (3.9.0)\n",
            "Requirement already satisfied: python-dateutil>=2.8.2 in /usr/local/lib/python3.10/dist-packages (from pandas>=1.3.0->pvlib) (2.8.2)\n",
            "Requirement already satisfied: tzdata>=2022.1 in /usr/local/lib/python3.10/dist-packages (from pandas>=1.3.0->pvlib) (2024.1)\n",
            "Requirement already satisfied: charset-normalizer<4,>=2 in /usr/local/lib/python3.10/dist-packages (from requests->pvlib) (3.3.2)\n",
            "Requirement already satisfied: idna<4,>=2.5 in /usr/local/lib/python3.10/dist-packages (from requests->pvlib) (3.7)\n",
            "Requirement already satisfied: urllib3<3,>=1.21.1 in /usr/local/lib/python3.10/dist-packages (from requests->pvlib) (2.0.7)\n",
            "Requirement already satisfied: certifi>=2017.4.17 in /usr/local/lib/python3.10/dist-packages (from requests->pvlib) (2024.2.2)\n",
            "Requirement already satisfied: six>=1.5 in /usr/local/lib/python3.10/dist-packages (from python-dateutil>=2.8.2->pandas>=1.3.0->pvlib) (1.16.0)\n",
            "Installing collected packages: pvlib\n",
            "Successfully installed pvlib-0.10.4\n"
          ]
        }
      ]
    },
    {
      "cell_type": "code",
      "execution_count": 3,
      "metadata": {
        "id": "e4kpYuvK4puK"
      },
      "outputs": [],
      "source": [
        "import pandas as pd\n",
        "import matplotlib.pyplot as plt\n",
        "import pvlib\n",
        "from pvlib.pvsystem import PVSystem, Array, FixedMount\n",
        "from pvlib.location import Location\n",
        "from pvlib.modelchain import ModelChain"
      ]
    },
    {
      "cell_type": "markdown",
      "metadata": {
        "id": "5Js7_0kL4puM"
      },
      "source": [
        "## Modeling paradigms\n",
        "https://pvlib-python.readthedocs.io/en/stable/user_guide/introtutorial.html#modeling-paradigms"
      ]
    },
    {
      "cell_type": "code",
      "execution_count": null,
      "metadata": {
        "id": "3To1r23B4puN"
      },
      "outputs": [],
      "source": [
        "# %% Modeling paradigms - Setup\n",
        "\n",
        "# latitude, longitude, name, altitude, timezone\n",
        "coordinates = [\n",
        "    (32.2, -111.0, 'Tucson', 700, 'Etc/GMT+7'),\n",
        "    (35.1, -106.6, 'Albuquerque', 1500, 'Etc/GMT+7'),\n",
        "    (37.8, -122.4, 'San Francisco', 10, 'Etc/GMT+8'),\n",
        "    (52.5, 13.4, 'Berlin', 34, 'Etc/GMT-1'),\n",
        "]\n",
        "\n",
        "# get the module and inverter specifications from SAM\n",
        "sandia_modules = pvlib.pvsystem.retrieve_sam('SandiaMod')\n",
        "sapm_inverters = pvlib.pvsystem.retrieve_sam('cecinverter')\n",
        "module = sandia_modules['Canadian_Solar_CS5P_220M___2009_']\n",
        "inverter = sapm_inverters['ABB__MICRO_0_25_I_OUTD_US_208__208V_']\n",
        "temperature_model_parameters = pvlib.temperature.TEMPERATURE_MODEL_PARAMETERS['sapm']['open_rack_glass_glass']\n",
        "\n",
        "tmys = []\n",
        "for location in coordinates:\n",
        "    latitude, longitude, name, altitude, timezone = location\n",
        "    weather = pvlib.iotools.get_pvgis_tmy(latitude, longitude)[0]\n",
        "    weather.index.name = \"utc_time\"\n",
        "    tmys.append(weather)"
      ]
    },
    {
      "cell_type": "code",
      "execution_count": null,
      "metadata": {
        "id": "zPqNkpOq4puN",
        "outputId": "5fbf0473-73ea-4b64-f924-662adccaab16"
      },
      "outputs": [
        {
          "name": "stdout",
          "output_type": "stream",
          "text": [
            "Tucson           435945.540454\n",
            "Albuquerque      449905.103839\n",
            "San Francisco    393749.728807\n",
            "Berlin           243230.970659\n",
            "dtype: float64\n"
          ]
        },
        {
          "data": {
            "text/plain": [
              "Text(0, 0.5, 'Yearly energy yield (W hr)')"
            ]
          },
          "execution_count": 3,
          "metadata": {},
          "output_type": "execute_result"
        },
        {
          "data": {
            "image/png": "[encoded data removed]",
            "text/plain": [
              "<Figure size 640x480 with 1 Axes>"
            ]
          },
          "metadata": {},
          "output_type": "display_data"
        }
      ],
      "source": [
        "# %% Modeling paradigms - Object oriented\n",
        "energies = {}\n",
        "\n",
        "for location, weather in zip(coordinates, tmys):\n",
        "    latitude, longitude, name, altitude, timezone = location\n",
        "    location = Location(\n",
        "        latitude,\n",
        "        longitude,\n",
        "        name=name,\n",
        "        altitude=altitude,\n",
        "        tz=timezone,\n",
        "    )\n",
        "    mount = FixedMount(surface_tilt=latitude, surface_azimuth=180)\n",
        "    array = Array(\n",
        "        mount=mount,\n",
        "        module_parameters=module,\n",
        "        temperature_model_parameters=temperature_model_parameters,\n",
        "    )\n",
        "    system = PVSystem(arrays=[array], inverter_parameters=inverter)\n",
        "    mc = ModelChain(system, location)\n",
        "    mc.run_model(weather)\n",
        "    annual_energy = mc.results.ac.sum()\n",
        "    energies[name] = annual_energy\n",
        "\n",
        "\n",
        "energies = pd.Series(energies)\n",
        "\n",
        "# Output\n",
        "# based on the parameters specified above, these are in W*hrs\n",
        "print(energies)\n",
        "energies.plot(kind='bar', rot=0)\n",
        "plt.ylabel('Yearly energy yield (W hr)')"
      ]
    },
    {
      "cell_type": "markdown",
      "metadata": {
        "id": "7h3EO_Jg4puO"
      },
      "source": [
        "## PVSystem and Arrays\n",
        "https://pvlib-python.readthedocs.io/en/stable/user_guide/pvsystem.html#pvsystem-and-arrays"
      ]
    },
    {
      "cell_type": "code",
      "execution_count": null,
      "metadata": {
        "id": "DJGXz1e64puP",
        "outputId": "49933b67-63b5-4519-ace3-57293a39ff36"
      },
      "outputs": [
        {
          "name": "stdout",
          "output_type": "stream",
          "text": [
            "[{'pdc0': 5000, 'gamma_pdc': -0.004}, {'pdc0': 5000, 'gamma_pdc': -0.004}]\n",
            "{'pdc0': 5000, 'eta_inv_nom': 0.96}\n"
          ]
        }
      ],
      "source": [
        "module_parameters = {'pdc0': 5000, 'gamma_pdc': -0.004}\n",
        "inverter_parameters = {'pdc0': 5000, 'eta_inv_nom': 0.96}\n",
        "\n",
        "mount = FixedMount(surface_tilt=20, surface_azimuth=180)\n",
        "\n",
        "array_one = Array(mount=mount, module_parameters=module_parameters)\n",
        "\n",
        "array_two = Array(mount=mount, module_parameters=module_parameters)\n",
        "\n",
        "system_two_arrays = PVSystem(arrays=[array_one, array_two],\n",
        "                                      inverter_parameters=inverter_parameters)\n",
        "\n",
        "\n",
        "print([array.module_parameters for array in system_two_arrays.arrays])\n",
        "print(system_two_arrays.inverter_parameters)\n"
      ]
    },
    {
      "cell_type": "code",
      "execution_count": null,
      "metadata": {
        "id": "Hx1x_d2g4puP",
        "outputId": "cfcab8d4-5ef4-4b98-a9b9-39582c46d9cf"
      },
      "outputs": [
        {
          "data": {
            "text/plain": [
              "5000"
            ]
          },
          "execution_count": 7,
          "metadata": {},
          "output_type": "execute_result"
        }
      ],
      "source": [
        "system_two_arrays.arrays[0].module_parameters['pdc0']"
      ]
    },
    {
      "cell_type": "markdown",
      "metadata": {
        "id": "5zyH6dAv4puP"
      },
      "source": [
        "## Model Chain"
      ]
    },
    {
      "cell_type": "code",
      "execution_count": 20,
      "metadata": {
        "id": "e556Q5iT4puQ",
        "outputId": "c05bfcd9-43db-4578-c5d6-5cc7162ad73a",
        "colab": {
          "base_uri": "https://localhost:8080/"
        }
      },
      "outputs": [
        {
          "output_type": "stream",
          "name": "stdout",
          "text": [
            "ModelChain: \n",
            "  name: None\n",
            "  clearsky_model: ineichen\n",
            "  transposition_model: haydavies\n",
            "  solar_position_method: nrel_numpy\n",
            "  airmass_model: kastenyoung1989\n",
            "  dc_model: sapm\n",
            "  ac_model: sandia_inverter\n",
            "  aoi_model: sapm_aoi_loss\n",
            "  spectral_model: sapm_spectral_loss\n",
            "  temperature_model: sapm_temp\n",
            "  losses_model: no_extra_losses\n"
          ]
        },
        {
          "output_type": "execute_result",
          "data": {
            "text/plain": [
              "ModelChain: \n",
              "  name: None\n",
              "  clearsky_model: ineichen\n",
              "  transposition_model: haydavies\n",
              "  solar_position_method: nrel_numpy\n",
              "  airmass_model: kastenyoung1989\n",
              "  dc_model: sapm\n",
              "  ac_model: sandia_inverter\n",
              "  aoi_model: sapm_aoi_loss\n",
              "  spectral_model: sapm_spectral_loss\n",
              "  temperature_model: sapm_temp\n",
              "  losses_model: no_extra_losses"
            ]
          },
          "metadata": {},
          "execution_count": 20
        }
      ],
      "source": [
        "import pandas as pd\n",
        "\n",
        "import numpy as np\n",
        "\n",
        "\n",
        "import pvlib\n",
        "\n",
        "from pvlib.pvsystem import PVSystem, FixedMount\n",
        "\n",
        "from pvlib.location import Location\n",
        "\n",
        "from pvlib.modelchain import ModelChain\n",
        "\n",
        "from pvlib.temperature import TEMPERATURE_MODEL_PARAMETERS\n",
        "\n",
        "temperature_model_parameters = TEMPERATURE_MODEL_PARAMETERS['sapm']['open_rack_glass_glass']\n",
        "\n",
        "\n",
        "sandia_modules = pvlib.pvsystem.retrieve_sam('SandiaMod')\n",
        "\n",
        "cec_inverters = pvlib.pvsystem.retrieve_sam('cecinverter')\n",
        "\n",
        "sandia_module = sandia_modules['Canadian_Solar_CS5P_220M___2009_']\n",
        "\n",
        "cec_inverter = cec_inverters['ABB__MICRO_0_25_I_OUTD_US_208__208V_']\n",
        "\n",
        "location = Location(latitude=32.2, longitude=-110.9)\n",
        "\n",
        "system = PVSystem(surface_tilt=20, surface_azimuth=200,\n",
        "                  module_parameters=sandia_module,\n",
        "                  inverter_parameters=cec_inverter,\n",
        "                  temperature_model_parameters=temperature_model_parameters)\n",
        "\n",
        "\n",
        "mc = ModelChain(system, location)\n",
        "\n",
        "print(mc)\n",
        "\n",
        "weather = pd.DataFrame([[1050, 1000, 100, 30, 5]],\n",
        "                       columns=['ghi', 'dni', 'dhi', 'temp_air', 'wind_speed'],\n",
        "                       index=[pd.Timestamp('20170401 1200', tz='US/Arizona')])\n",
        "\n",
        "\n",
        "mc.run_model(weather)\n"
      ]
    },
    {
      "cell_type": "markdown",
      "source": [],
      "metadata": {
        "id": "RwBX23c79Hi1"
      }
    },
    {
      "cell_type": "markdown",
      "source": [
        "## Tiergarten_Ost Simulation"
      ],
      "metadata": {
        "id": "EUt9V4L59IVj"
      }
    },
    {
      "cell_type": "code",
      "execution_count": 29,
      "metadata": {
        "id": "M8jiqwqb4puR"
      },
      "outputs": [],
      "source": [
        "location = Location(latitude=47.062365389967134, longitude=7.614255071260409, altitude=533, tz='Europe/Zurich', name='Tiergarten_Ost')\n"
      ]
    },
    {
      "cell_type": "code",
      "source": [
        "times = pd.date_range(start='2016-01-01', end='2016-01-02', freq='1min', tz='Europe/Zurich')\n",
        "\n",
        "cs = location.get_clearsky(times)  # ineichen with climatology table by default\n",
        "\n",
        "cs.plot();\n",
        "\n",
        "plt.ylabel('Irradiance $W/m^2$');\n",
        "\n",
        "plt.title('Irradiance, Ineichen model');"
      ],
      "metadata": {
        "id": "-pPaZntFeBtN",
        "outputId": "c9efa349-ea54-4614-e3b8-bc272a9b5764",
        "colab": {
          "base_uri": "https://localhost:8080/",
          "height": 485
        }
      },
      "execution_count": 32,
      "outputs": [
        {
          "output_type": "display_data",
          "data": {
            "text/plain": [
              "<Figure size 640x480 with 1 Axes>"
            ],
            "image/png": "[encoded data removed]"
          },
          "metadata": {}
        }
      ]
    },
    {
      "cell_type": "code",
      "source": [
        "#import the database\n",
        "modules_database = pvlib.pvsystem.retrieve_sam(name='SandiaMod')\n",
        "inverters_database = pvlib.pvsystem.retrieve_sam(name='cecinverter')"
      ],
      "metadata": {
        "id": "T_uhAIZbHHfZ"
      },
      "execution_count": 6,
      "outputs": []
    },
    {
      "cell_type": "code",
      "source": [
        "system = PVSystem(surface_tilt=30, surface_azimuth=241,\n",
        "                  module_parameters=modules_database['Siemens_Solar_SM55__2002__E__'],\n",
        "                  inverter_parameters= {'pdc0': 5000, 'eta_inv_nom': 0.96},\n",
        "                  temperature_model_parameters=temperature_model_parameters)"
      ],
      "metadata": {
        "id": "O7Q6fUEQ8yNN"
      },
      "execution_count": null,
      "outputs": []
    }
  ],
  "metadata": {
    "kernelspec": {
      "display_name": ".venv",
      "language": "python",
      "name": "python3"
    },
    "language_info": {
      "codemirror_mode": {
        "name": "ipython",
        "version": 3
      },
      "file_extension": ".py",
      "mimetype": "text/x-python",
      "name": "python",
      "nbconvert_exporter": "python",
      "pygments_lexer": "ipython3",
      "version": "3.12.2"
    },
    "colab": {
      "provenance": [],
      "include_colab_link": true
    }
  },
  "nbformat": 4,
  "nbformat_minor": 0
}