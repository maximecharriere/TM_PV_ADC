{
 "cells": [
  {
   "cell_type": "markdown",
   "metadata": {},
   "source": [
    "## Setup & Import"
   ]
  },
  {
   "cell_type": "code",
   "execution_count": null,
   "metadata": {},
   "outputs": [],
   "source": [
    "import pandas as pd\n",
    "import numpy as np\n",
    "import matplotlib.pyplot as plt\n",
    "import pvlib\n",
    "import json\n",
    "import os\n",
    "from pvlib.pvsystem import PVSystem, Array, FixedMount\n",
    "from pvlib.location import Location\n",
    "from pvlib.modelchain import ModelChain\n",
    "from pvlib.temperature import TEMPERATURE_MODEL_PARAMETERS\n",
    "import plotly.graph_objects as go\n",
    "import plotly.io as pio\n",
    "\n",
    "pio.renderers.default = \"browser\" # render plotly figures in browser\n",
    "\n",
    "PARENT_DATA_DIR = os.getenv('PARENT_DATA_DIR')\n",
    "if PARENT_DATA_DIR is None:\n",
    "    raise ValueError(\"PARENT_DATA_DIR environment variable is not set\")\n",
    "\n",
    "\n",
    "dataDirpath = PARENT_DATA_DIR + r\"\\PRiOT\\dataExport_3400_daily\"\n",
    "logsDirpath = r\"..\\logs\"\n"
   ]
  },
  {
   "cell_type": "markdown",
   "metadata": {},
   "source": [
    "## Convert PRiOT database\n",
    "\n",
    "Convert arguments using a string to identify the array number to a dictionary of arrays:   \n",
    "`\"a001359\": {\"metadata\": {\"pv_mod1_wp\": 365}}` becomes `\"a001359\": {\"arrays\": {\"1\": {\"pv_wp\": 395}}}`\n"
   ]
  },
  {
   "cell_type": "raw",
   "metadata": {
    "vscode": {
     "languageId": "raw"
    }
   },
   "source": [
    "# Load the metadata JSON file\n",
    "metadataFilepath = os.path.join(dataDirpath, \"metadata_origin.json\")\n",
    "\n",
    "with open(metadataFilepath, 'r') as f:\n",
    "    metadataOrigin = json.load(f)\n",
    "\n",
    "# Group linear module data to list of modules\n",
    "for systemName, systemData in metadataOrigin.items():\n",
    "    arrays = {}\n",
    "    keys_to_delete = []\n",
    "    for key, value in systemData['metadata'].items():\n",
    "        if 'mod' in key:\n",
    "            # Extract the module number\n",
    "            array_num = key.split('_')[1][-1]\n",
    "            # Remove the module number from the key\n",
    "            new_key = '_'.join(key.split('_')[:1] + key.split('_')[2:])\n",
    "            # Add the key-value pair to the appropriate module dictionary\n",
    "            if array_num not in arrays:\n",
    "                arrays[array_num] = {}\n",
    "            arrays[array_num][new_key] = value\n",
    "            keys_to_delete.append(key)\n",
    "    systemData['arrays'] = arrays\n",
    "    for key in keys_to_delete:\n",
    "        del systemData['metadata'][key]\n",
    "\n",
    "json.dump(metadataOrigin, open(os.path.join(dataDirpath, \"metadata.json\"), 'w'), indent=4)"
   ]
  },
  {
   "cell_type": "markdown",
   "metadata": {},
   "source": [
    "## Import PRiOT data"
   ]
  },
  {
   "cell_type": "code",
   "execution_count": null,
   "metadata": {},
   "outputs": [],
   "source": [
    "# Load the metadata JSON file\n",
    "metadataFilepath = os.path.join(dataDirpath, \"metadata.json\")\n",
    "\n",
    "with open(metadataFilepath, 'r') as f:\n",
    "    metadata = json.load(f)\n",
    "\n",
    "# Load all csv files from the data directory\n",
    "systemsData = {}\n",
    "for file in os.listdir(dataDirpath):\n",
    "    if file.endswith(\".csv\"):\n",
    "        systemName = file.split(\"_\")[0]\n",
    "        systemsData[systemName] = pd.read_csv(os.path.join(dataDirpath, file))\n",
    "        systemsData[systemName]['Datetime'] = pd.to_datetime(systemsData[systemName]['Timestamp'], unit='ms', utc=True).dt.tz_convert('Europe/Zurich')\n",
    "        systemsData[systemName]['Date'] = (systemsData[systemName]['Datetime']+pd.Timedelta(hours=1)).dt.date # Convert the datetime to only the date, as the production is the daily production. The +1h is to manage the saving time. Normally PRiOT exports the data at midnight (local time) for the day after (e.g. the energy for the July 1st is saved at July 1st 00:00 Europe/Zurich). However it seams that the saving time is not always correctly handled, and sometime the export is done at 23:00 the day before (e.g. the energy for the July 1st is saved at June 30th 23:00 Europe/Zurich). This is why we add 1h to the datetime to be sure to have the correct date.\n",
    "        # systemsData[systemName]['energy_daily_norm'] = systemsData[systemName]['tt_forward_active_energy_total_toDay'] / metadata[systemName]['metadata']['pv_kwp']\n",
    "\n",
    "systemsName = list(systemsData.keys())\n",
    "\n",
    "df_duplicate_list = list()\n",
    "for systemName, systemData in systemsData.items():\n",
    "    # Save duplicate dates to log list, and the in a log file\n",
    "    df_duplicate_list.append(systemData[systemsData[systemName]['Date'].duplicated(keep=False)])\n",
    "\n",
    "    # Remove duplicate date where tt_forward_active_energy_total_toDay is the smallest \n",
    "    # TODO maybe we should sum the energy of the duplicates instead of removing the smallest one. However, when looking in PRiOT Portal, it seams that in the daily energy, only the biggest value is represented. We do the same here.\n",
    "    systemData.sort_values('tt_forward_active_energy_total_toDay', ascending=True, inplace=True)\n",
    "    systemsData[systemName].drop_duplicates(subset='Date', keep='last', inplace=True)\n",
    "\n",
    "    # Set date as the index and sort the data by date\n",
    "    systemsData[systemName].set_index('Date', inplace=True)\n",
    "    systemData.sort_index(ascending=True, inplace=True)\n",
    "\n",
    "# Save duplicate dates to log file\n",
    "df_duplicate = pd.concat(df_duplicate_list)\n",
    "print(f\"Number of duplicate dates found: {len(df_duplicate)}\")\n",
    "df_duplicate.to_csv(os.path.join(logsDirpath,'duplicateDates.csv'), index=True)\n",
    "\n"
   ]
  },
  {
   "cell_type": "markdown",
   "metadata": {},
   "source": [
    "### Convert data & Filter out invalid PRiOT systems"
   ]
  },
  {
   "cell_type": "code",
   "execution_count": null,
   "metadata": {},
   "outputs": [],
   "source": [
    "systemsNameRemaining = systemsName.copy()\n",
    "for systemName in systemsName:\n",
    "    missingData = False\n",
    "    if len(systemsData[systemName]) == 0:\n",
    "        missingData = True\n",
    "        print(f\"No measures found for system {systemName}\")\n",
    "    for key in ['loc_latitude', 'loc_longitude', 'pv_kwp']:\n",
    "        if key not in metadata[systemName]['metadata']:\n",
    "            missingData = True\n",
    "            print(f\"No {key} found for {systemName}\")\n",
    "        # test that the value is a number\n",
    "        elif not isinstance(metadata[systemName]['metadata'][key], (int, float)):\n",
    "            try:\n",
    "                metadata[systemName]['metadata'][key] = int(metadata[systemName]['metadata'][key])\n",
    "            except ValueError:\n",
    "                try:\n",
    "                    metadata[systemName]['metadata'][key] = float(metadata[systemName]['metadata'][key])\n",
    "                except ValueError:\n",
    "                    missingData = True\n",
    "                    print(f\"The key-value '{key}:{metadata[systemName]['metadata'][key]}' is not a number for system {systemName}\")\n",
    "\n",
    "\n",
    "    if(len(metadata[systemName]['arrays'])==0):\n",
    "        print(f\"No PV arrays found for system {systemName}\")\n",
    "        missingData = True  \n",
    "    for array_num, arrayData in metadata[systemName]['arrays'].items():\n",
    "        for key in ['pv_tilt', 'pv_azimut', 'pv_wp', 'pv_number']:\n",
    "            if key not in arrayData:\n",
    "                missingData = True\n",
    "                print(f\"No {key} found for array {array_num} of system {systemName}\")\n",
    "            # test that the value is a number\n",
    "            elif not isinstance(arrayData[key], (int, float)):\n",
    "                try:\n",
    "                    arrayData[key] = int(arrayData[key])\n",
    "                except ValueError:\n",
    "                    try:\n",
    "                        arrayData[key] = float(arrayData[key])\n",
    "                    except ValueError:\n",
    "                        missingData = True\n",
    "                        print(f\"The key-value '{key}:{arrayData[key]}' is not a number for array {array_num} of system {systemName}\")\n",
    "\n",
    "    if missingData:\n",
    "        systemsNameRemaining.remove(systemName)\n",
    "        print(f\"-> Removing system {systemName} from the list of systems\")\n",
    "\n",
    "print(f\"Number of systems with all the necessary data: {len(systemsNameRemaining)}/{len(systemsName)}\")\n"
   ]
  },
  {
   "cell_type": "markdown",
   "metadata": {},
   "source": [
    "## Simulate production"
   ]
  },
  {
   "cell_type": "markdown",
   "metadata": {},
   "source": [
    "### Create Model chains"
   ]
  },
  {
   "cell_type": "code",
   "execution_count": null,
   "metadata": {},
   "outputs": [],
   "source": [
    "# Create a model chain for each system\n",
    "modelChains = {}\n",
    "for systemName in systemsNameRemaining:\n",
    "    latitude = metadata[systemName]['metadata']['loc_latitude']\n",
    "    longitude = metadata[systemName]['metadata']['loc_longitude']\n",
    "    altitude = 533 # TODO: Get the altitude from the metadata or an API\n",
    "    Wp_Tot = metadata[systemName]['metadata']['pv_kwp']*1000\n",
    "\n",
    "    arrays = []\n",
    "    for array_num, arrayData in metadata[systemName]['arrays'].items():\n",
    "        array = Array(\n",
    "            mount=FixedMount(surface_tilt=arrayData['pv_tilt'], surface_azimuth=arrayData['pv_azimut'], racking_model = 'open_rack'),\n",
    "            module_parameters={'pdc0': arrayData['pv_wp'], 'gamma_pdc' : -0.004},\n",
    "            module_type = 'glass_polymer',\n",
    "            modules_per_string = arrayData['pv_number'],\n",
    "            strings = 1,\n",
    "            temperature_model_parameters=TEMPERATURE_MODEL_PARAMETERS['sapm']['open_rack_glass_polymer'],\n",
    "        )\n",
    "        arrays.append(array)\n",
    "\n",
    "\n",
    "    location = Location(latitude=latitude, longitude=longitude, altitude=altitude, tz='Europe/Zurich', name=systemName)\n",
    "    system = PVSystem(arrays=arrays, inverter_parameters={'pdc0': Wp_Tot, 'eta_inv_nom': 0.96})\n",
    "    modelChain = ModelChain(system, location, clearsky_model = 'ineichen', aoi_model='no_loss', spectral_model=\"no_loss\")\n",
    "\n",
    "    modelChains[systemName] = modelChain"
   ]
  },
  {
   "cell_type": "markdown",
   "metadata": {},
   "source": [
    "### Compute maximum expected energy production\n",
    "\n"
   ]
  },
  {
   "cell_type": "code",
   "execution_count": null,
   "metadata": {},
   "outputs": [],
   "source": [
    "def daily_energy(df_power):\n",
    "    # Get the frequency in minutes\n",
    "    freq_in_minutes = pd.Timedelta(df_power.index.freq).seconds/60\n",
    "    # Convert power from kW to kWh\n",
    "    df_energy = df_power * (freq_in_minutes/60)\n",
    "    # Resample to daily frequency and sum the values\n",
    "    daily_energy = df_energy.resample('D').sum()\n",
    "    # daily_energy.index = daily_energy.index.date\n",
    "    \n",
    "    return daily_energy\n",
    "\n",
    "def simulateDailyProduction(startDate, endDate, modelChain, samplingFreq='1h'):\n",
    "    # The end date is included in the simulation (end date at 23:59).\n",
    "    # So we add 1 day to the end date to include the entire end date in the date_range(), and then we exclude the last value (end date +1 at 00:00) in the date_range().\n",
    "    # TODO It is possible to take into account the horizon, using this method: https://pvlib-python.readthedocs.io/en/stable/gallery/shading/plot_simple_irradiance_adjustment_for_horizon_shading.html\n",
    "    endDate = endDate + pd.Timedelta(days=1)\n",
    "\n",
    "    times = pd.date_range(start=startDate, end=endDate, freq=samplingFreq, tz=modelChain.location.tz, inclusive='left')\n",
    "    weatherClearSky = modelChain.location.get_clearsky(times) # In W/m2\n",
    "    modelChain.run_model(weatherClearSky)\n",
    "    production = modelChain.results.ac/1000 # Convert W to kW\n",
    "    dailyProduction = daily_energy(production)\n",
    "    dailyProduction.index = dailyProduction.index.date\n",
    "    return dailyProduction"
   ]
  },
  {
   "cell_type": "code",
   "execution_count": null,
   "metadata": {},
   "outputs": [],
   "source": [
    "# Simulate the daily production for each system with 1h sampling rate\n",
    "dailyProductions = {}\n",
    "\n",
    "for systemName, modelChain in modelChains.items():\n",
    "    try:\n",
    "        dailyProductions[systemName] = simulateDailyProduction(systemsData[systemName].index.min(), systemsData[systemName].index.max(), modelChain, samplingFreq='1h')\n",
    "    except Exception as e:\n",
    "        print(f\"Error for system {systemName}: {e}\")\n",
    "        continue"
   ]
  },
  {
   "cell_type": "markdown",
   "metadata": {},
   "source": [
    "### Plot result"
   ]
  },
  {
   "cell_type": "code",
   "execution_count": null,
   "metadata": {},
   "outputs": [],
   "source": [
    "# Plot the max daily simulated energy and the measured energy for each pv systems\n",
    " \n",
    "systemName = systemsNameRemaining[0]\n",
    "\n",
    "fig = go.Figure()\n",
    "\n",
    "# Add initial traces\n",
    "fig.add_trace(go.Scatter(x=dailyProductions[systemName].index, y=dailyProductions[systemName], mode='markers', name='Max simulated daily energy'))\n",
    "fig.add_trace(go.Scatter(x=systemsData[systemName].index, y=systemsData[systemName]['tt_forward_active_energy_total_toDay'], mode='markers', name='Measured daily energy'))\n",
    "\n",
    "# Create dropdown menu\n",
    "buttons = []\n",
    "for name in systemsNameRemaining:\n",
    "    button = dict(\n",
    "        label=name,\n",
    "        method=\"update\",\n",
    "        args=[{\"x\": [dailyProductions[name].index, systemsData[name].index], \n",
    "               \"y\": [dailyProductions[name], systemsData[name]['tt_forward_active_energy_total_toDay']],\n",
    "               \"name\": ['Max simulated daily energy', 'Measured daily energy']}]\n",
    "    )\n",
    "    buttons.append(button)\n",
    "\n",
    "fig.update_layout(\n",
    "    updatemenus=[\n",
    "        dict(\n",
    "            buttons=buttons,\n",
    "            direction=\"down\",\n",
    "            showactive=True,\n",
    "            x=0.05,\n",
    "            xanchor=\"left\",\n",
    "            y=1.15,\n",
    "            yanchor=\"top\"\n",
    "        ),\n",
    "    ]\n",
    ")\n",
    "\n",
    "fig.show()\n",
    "\n"
   ]
  },
  {
   "cell_type": "markdown",
   "metadata": {},
   "source": [
    "## Relative production"
   ]
  },
  {
   "cell_type": "code",
   "execution_count": null,
   "metadata": {},
   "outputs": [],
   "source": [
    "# Do the same for all the systems\n",
    "for systemName in systemsNameRemaining:\n",
    "    systemsData[systemName]['simulated_energy'] = dailyProductions[systemName]\n",
    "    if systemsData[systemName]['simulated_energy'].isna().any():\n",
    "        raise(f\"There are NaN values in the simulated energy for system {systemName}\")\n",
    "\n",
    "    systemsData[systemName]['relative_energy'] = systemsData[systemName]['tt_forward_active_energy_total_toDay'] / systemsData[systemName]['simulated_energy']"
   ]
  },
  {
   "cell_type": "code",
   "execution_count": null,
   "metadata": {},
   "outputs": [],
   "source": [
    "# plot all the relative energy on the same graph\n",
    "fig = go.Figure()\n",
    "for systemName in systemsNameRemaining:\n",
    "    fig.add_trace(go.Scatter(x=systemsData[systemName].index, y=systemsData[systemName]['relative_energy'], mode='markers', name=systemName))\n",
    "\n",
    "fig.show()"
   ]
  },
  {
   "cell_type": "markdown",
   "metadata": {},
   "source": [
    "## Compare difference between simulation with hourly and 10min sampling rate"
   ]
  },
  {
   "cell_type": "code",
   "execution_count": null,
   "metadata": {},
   "outputs": [],
   "source": [
    "# Simulate the daily production for each system with 1h and 10min sampling rate\n",
    "dailyProductions = {}\n",
    "\n",
    "for systemName, modelChain in modelChains.items():\n",
    "    try:\n",
    "        dailyProduction_hour = simulateDailyProduction(systemName, systemsData, modelChains, samplingFreq='1h')\n",
    "        dailyProduction_min = simulateDailyProduction(systemName, systemsData, modelChains, samplingFreq='10min')\n",
    "        dailyProductions[systemName] = pd.DataFrame({'Simulator hour': dailyProduction_hour, 'Simulator 10min': dailyProduction_min})\n",
    "    except Exception as e:\n",
    "        print(f\"Error for system {systemName}: {e}\")\n",
    "        continue\n"
   ]
  },
  {
   "cell_type": "raw",
   "metadata": {
    "vscode": {
     "languageId": "raw"
    }
   },
   "source": [
    "# Compute the descriptive statistics of the difference between the 1h and 10min simulations on all systems\n",
    "allSimulations = pd.concat(dailyProductions.values())\n",
    "\n",
    "allSimulations['Difference'] = allSimulations['Simulator hour'] - allSimulations['Simulator 10min']\n",
    "allSimulations['Percentage'] = allSimulations['Difference'] / allSimulations['Simulator 10min'] * 100\n",
    "\n",
    "descriptiveStat = allSimulations[['Difference', 'Percentage']].describe()\n",
    "print(descriptiveStat)\n"
   ]
  },
  {
   "cell_type": "raw",
   "metadata": {
    "vscode": {
     "languageId": "raw"
    }
   },
   "source": [
    "# Plot the histogram of the percentage of the difference\n",
    "fig = go.Figure()\n",
    "fig.add_trace(go.Histogram(x=allSimulations['Percentage'], nbinsx=1000))\n",
    "fig.add_vline(x=descriptiveStat.loc['mean','Percentage'], line_color='red', line_width=2, annotation_text='mean')\n",
    "fig.add_vline(x=descriptiveStat.loc['25%','Percentage'], line_color='green', line_width=2, annotation_text='25%')\n",
    "fig.add_vline(x=descriptiveStat.loc['75%','Percentage'], line_color='green', line_width=2, annotation_text='75%')\n",
    "fig.update_xaxes(dtick=0.1)\n",
    "fig.update_xaxes(range=[-1, 1])\n",
    "fig.update_layout(width=1000, height=666)\n",
    "fig.update_layout(xaxis_title='Percentage of the difference (%)')\n",
    "fig.show()"
   ]
  },
  {
   "cell_type": "raw",
   "metadata": {
    "vscode": {
     "languageId": "raw"
    }
   },
   "source": [
    "# Plot the daily production of a system with 1h and 10min sampling rate\n",
    "systemName = 'a001096'\n",
    "dailyProduction_hour = simulateDailyProduction(systemName, systemsData, modelChains, samplingFreq='1h')\n",
    "dailyProduction_min = simulateDailyProduction(systemName, systemsData, modelChains, samplingFreq='10min')\n",
    "\n",
    "fig = go.Figure()\n",
    "fig.add_trace(go.Scatter(x=dailyProduction_min.index, y=dailyProduction_min, mode='markers', name='10min sampling rate'))\n",
    "fig.add_trace(go.Scatter(x=dailyProduction_hour.index, y=dailyProduction_hour, mode='markers', name='Hourly sampling rate'))\n",
    "\n",
    "fig.update_layout(title=f'Simulated daily max AC energy of system {systemName}', xaxis_title='Time', yaxis_title='Energy (kWh)')\n",
    "fig.update_layout(width=1000, height=666)\n",
    "\n",
    "fig.show()\n"
   ]
  },
  {
   "cell_type": "code",
   "execution_count": null,
   "metadata": {},
   "outputs": [],
   "source": [
    "systemsData"
   ]
  },
  {
   "cell_type": "raw",
   "metadata": {
    "vscode": {
     "languageId": "raw"
    }
   },
   "source": []
  }
 ],
 "metadata": {
  "kernelspec": {
   "display_name": ".venv",
   "language": "python",
   "name": "python3"
  },
  "language_info": {
   "codemirror_mode": {
    "name": "ipython",
    "version": 3
   },
   "file_extension": ".py",
   "mimetype": "text/x-python",
   "name": "python",
   "nbconvert_exporter": "python",
   "pygments_lexer": "ipython3",
   "version": "3.12.2"
  }
 },
 "nbformat": 4,
 "nbformat_minor": 2
}
