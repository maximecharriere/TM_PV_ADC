{
 "cells": [
  {
   "cell_type": "markdown",
   "metadata": {},
   "source": [
    "## Setup & Import"
   ]
  },
  {
   "cell_type": "code",
   "execution_count": null,
   "metadata": {},
   "outputs": [],
   "source": [
    "import pandas as pd\n",
    "import numpy as np\n",
    "import matplotlib.pyplot as plt\n",
    "import pvlib\n",
    "import json\n",
    "import os\n",
    "from pvlib.pvsystem import PVSystem, Array, FixedMount\n",
    "from pvlib.location import Location\n",
    "from pvlib.modelchain import ModelChain\n",
    "from pvlib.temperature import TEMPERATURE_MODEL_PARAMETERS\n",
    "import plotly.graph_objects as go\n",
    "\n",
    "PARENT_DATA_DIR = os.getenv('PARENT_DATA_DIR')\n",
    "if PARENT_DATA_DIR is None:\n",
    "    raise ValueError(\"PARENT_DATA_DIR environment variable is not set\")\n",
    "\n",
    "\n",
    "dataDirpath = PARENT_DATA_DIR + r\"\\PRiOT\\dataExport_3400_daily\"\n",
    "logsDirpath = r\"..\\logs\"\n"
   ]
  },
  {
   "cell_type": "markdown",
   "metadata": {},
   "source": [
    "## Convert PRiOT database\n",
    "\n",
    "Convert arguments using a string to identify the array number to a dictionary of arrays:   \n",
    "`\"a001359\": {\"metadata\": {\"pv_mod1_wp\": 365}}` becomes `\"a001359\": {\"arrays\": {\"1\": {\"pv_wp\": 395}}}`\n"
   ]
  },
  {
   "cell_type": "code",
   "execution_count": null,
   "metadata": {},
   "outputs": [],
   "source": [
    "# Load the metadata JSON file\n",
    "metadataFilepath = os.path.join(dataDirpath, \"metadata_origin.json\")\n",
    "\n",
    "with open(metadataFilepath, 'r') as f:\n",
    "    metadataOrigin = json.load(f)\n",
    "\n",
    "# Group linear module data to list of modules\n",
    "for systemName, systemData in metadataOrigin.items():\n",
    "    arrays = {}\n",
    "    keys_to_delete = []\n",
    "    for key, value in systemData['metadata'].items():\n",
    "        if 'mod' in key:\n",
    "            # Extract the module number\n",
    "            array_num = key.split('_')[1][-1]\n",
    "            # Remove the module number from the key\n",
    "            new_key = '_'.join(key.split('_')[:1] + key.split('_')[2:])\n",
    "            # Add the key-value pair to the appropriate module dictionary\n",
    "            if array_num not in arrays:\n",
    "                arrays[array_num] = {}\n",
    "            arrays[array_num][new_key] = value\n",
    "            keys_to_delete.append(key)\n",
    "    systemData['arrays'] = arrays\n",
    "    for key in keys_to_delete:\n",
    "        del systemData['metadata'][key]\n",
    "\n",
    "json.dump(metadataOrigin, open(os.path.join(dataDirpath, \"metadata.json\"), 'w'), indent=4)"
   ]
  },
  {
   "cell_type": "markdown",
   "metadata": {},
   "source": [
    "## Import PRiOT data"
   ]
  },
  {
   "cell_type": "code",
   "execution_count": null,
   "metadata": {},
   "outputs": [],
   "source": [
    "# Load the metadata JSON file\n",
    "metadataFilepath = os.path.join(dataDirpath, \"metadata.json\")\n",
    "\n",
    "with open(metadataFilepath, 'r') as f:\n",
    "    metadata = json.load(f)\n",
    "\n",
    "# Load all csv files from the data directory\n",
    "systemsData = {}\n",
    "for file in os.listdir(dataDirpath):\n",
    "    if file.endswith(\".csv\"):\n",
    "        systemName = file.split(\"_\")[0]\n",
    "        systemsData[systemName] = pd.read_csv(os.path.join(dataDirpath, file))\n",
    "        systemsData[systemName]['Datetime'] = pd.to_datetime(systemsData[systemName]['Timestamp'], unit='ms', utc=True).dt.tz_convert('Europe/Zurich')\n",
    "        systemsData[systemName]['Date'] = (systemsData[systemName]['Datetime']+pd.Timedelta(hours=1)).dt.date # Convert the datetime to only the date, as the production is the daily production. The +1h is to manage the saving time. Normally PRiOT exports the data at midnight (local time) for the day after (e.g. the energy for the July 1st is saved at July 1st 00:00 Europe/Zurich). However it seams that the saving time is not always correctly handled, and sometime the export is done at 23:00 the day before (e.g. the energy for the July 1st is saved at June 30th 23:00 Europe/Zurich). This is why we add 1h to the datetime to be sure to have the correct date.\n",
    "        systemsData[systemName]['energy_daily_norm'] = systemsData[systemName]['tt_forward_active_energy_total_toDay'] / metadata[systemName]['metadata']['pv_kwp']\n",
    "\n",
    "systemsName = list(systemsData.keys())\n",
    "\n",
    "# Save duplicate dates to log file\n",
    "df_duplicate_list = list()\n",
    "for systemName, systemData in systemsData.items():\n",
    "    df_duplicate_list.append(systemData[systemData['Date'].duplicated(keep=False)])\n",
    "df_duplicate = pd.concat(df_duplicate_list)\n",
    "print(f\"Number of duplicate dates found: {len(df_duplicate)}\")\n",
    "df_duplicate.to_csv(os.path.join(logsDirpath,'duplicateDates.csv'), index=True)\n",
    "\n",
    "# Remove duplicate date where tt_forward_active_energy_total_toDay is the smallest \n",
    "#TODO maybe we should sum the energy of the duplicates instead of removing the smallest one\n",
    "for systemName, systemData in systemsData.items():\n",
    "    systemData = systemData.sort_values('tt_forward_active_energy_total_toDay', ascending=False)\n",
    "    systemData = systemData.drop_duplicates(subset='Date', keep='first')\n",
    "    systemData = systemData.sort_values('Date', ascending=True)\n",
    "    systemsData[systemName] = systemData\n",
    "\n"
   ]
  },
  {
   "cell_type": "markdown",
   "metadata": {},
   "source": [
    "## Simulate production\n",
    "\n",
    "### Create Model chains"
   ]
  },
  {
   "cell_type": "code",
   "execution_count": null,
   "metadata": {},
   "outputs": [],
   "source": [
    "# Create a model chain for each system\n",
    "modelChains = {}\n",
    "for systemName in systemsName:\n",
    "    error = False\n",
    "\n",
    "    try:\n",
    "        latitude = metadata[systemName]['metadata']['loc_latitude']\n",
    "        longitude = metadata[systemName]['metadata']['loc_longitude']\n",
    "        altitude = 533 # TODO: Get the altitude from the metadata or an API\n",
    "        Wp_Tot = metadata[systemName]['metadata']['pv_kwp']*1000\n",
    "    except KeyError as e:\n",
    "        print(f\"Missing metadata {e} for system {systemName}\")\n",
    "        error = True\n",
    "\n",
    "    if(len(metadata[systemName]['arrays'])==0):\n",
    "        print(f\"No arrays found for system {systemName}\")\n",
    "        error = True  \n",
    "\n",
    "    arrays = []\n",
    "    for array_num, arrayData in metadata[systemName]['arrays'].items():\n",
    "        try:\n",
    "            array = Array(\n",
    "                mount=FixedMount(surface_tilt=arrayData['pv_tilt'], surface_azimuth=arrayData['pv_azimut'], racking_model = 'open_rack'),\n",
    "                module_parameters={'pdc0': arrayData['pv_wp'], 'gamma_pdc' : -0.004},\n",
    "                module_type = 'glass_polymer',\n",
    "                modules_per_string = arrayData['pv_number'],\n",
    "                strings = 1,\n",
    "                temperature_model_parameters=TEMPERATURE_MODEL_PARAMETERS['sapm']['open_rack_glass_polymer'],\n",
    "            )\n",
    "            arrays.append(array)\n",
    "        except KeyError as e:\n",
    "            print(f\"Missing metadata {e} for array {array_num} of system {systemName}\")\n",
    "            error = True        \n",
    "\n",
    "\n",
    "    if(error):\n",
    "        print(f\"Error found during creation of the model chain. Skipping system {systemName}...\")\n",
    "        continue\n",
    "\n",
    "    location = Location(latitude=latitude, longitude=longitude, altitude=altitude, tz='Europe/Zurich', name=systemName)\n",
    "    system = PVSystem(arrays=arrays, inverter_parameters={'pdc0': Wp_Tot, 'eta_inv_nom': 0.96})\n",
    "    modelChain = ModelChain(system, location, clearsky_model = 'ineichen', aoi_model='no_loss', spectral_model=\"no_loss\")\n",
    "\n",
    "    modelChains[systemName] = modelChain\n",
    "    systemsNameRemaining = list(modelChains.keys())\n",
    "\n",
    "print(f\"Model chains created for {len(systemsNameRemaining)} out of {len(systemsName)} systems\")"
   ]
  },
  {
   "cell_type": "code",
   "execution_count": null,
   "metadata": {},
   "outputs": [],
   "source": [
    "def daily_energy(df):\n",
    "    # Get the frequency in minutes\n",
    "    freq_in_minutes = pd.Timedelta(df.index.freq).seconds/60\n",
    "    # Convert power from kW to kWh\n",
    "    df_kWh = df * (freq_in_minutes/60)\n",
    "    # Resample to daily frequency and sum the values\n",
    "    daily_energy = df_kWh.resample('D').sum()\n",
    "\n",
    "    return daily_energy"
   ]
  },
  {
   "cell_type": "code",
   "execution_count": null,
   "metadata": {},
   "outputs": [],
   "source": [
    "# TODO do the same for each system\n",
    "\n",
    "startDate = systemsData['a001035']['Date'].min()\n",
    "endDate = systemsData['a001035']['Date'].max()\n",
    "# times_min = pd.date_range(start=startDate, end=endDate, freq='10min', tz='Europe/Zurich')\n",
    "times_hour = pd.date_range(start=startDate, end=endDate, freq='1h', tz='Europe/Zurich')\n",
    "\n",
    "# weatherClearSky_min = modelChains['a001035'].location.get_clearsky(times_min) # In W/m2\n",
    "weatherClearSky_hour = modelChains['a001035'].location.get_clearsky(times_hour) # In W/m2\n",
    "\n",
    "# modelChains['a001035'].run_model(weatherClearSky_min)\n",
    "# production_min = modelChains['a001035'].results.ac\n",
    "# dailyProduction_min = daily_energy(production_min)\n",
    "modelChains['a001035'].run_model(weatherClearSky_hour)\n",
    "production_hour = modelChains['a001035'].results.ac/1000 # Convert W to kW\n",
    "dailyProduction_hour = daily_energy(production_hour)\n"
   ]
  },
  {
   "cell_type": "code",
   "execution_count": null,
   "metadata": {},
   "outputs": [],
   "source": [
    "# plot modelChains['a001035'].results.ac with plotly.graph_objects\n",
    "fig = go.Figure()\n",
    "# fig.add_trace(go.Scatter(x=production_min.index, y=production_min, mode='markers', name='AC power min'))\n",
    "fig.add_trace(go.Scatter(x=production_hour.index, y=production_hour, mode='markers', name='AC power hour'))\n",
    "# fig.add_trace(go.Scatter(x=dailyProduction_min.index, y=dailyProduction_min, mode='markers', name='Daily energy min'))\n",
    "fig.add_trace(go.Scatter(x=dailyProduction_hour.index, y=dailyProduction_hour, mode='markers', name='Daily energy hour'))\n",
    "fig.add_trace(go.Scatter(x=systemsData['a001035']['Date'], y=systemsData['a001035']['tt_forward_active_energy_total_toDay'], mode='markers', name='Daily energy PRiOT'))\n",
    "\n",
    "fig.update_layout(title='AC power of system a001035', xaxis_title='Time', yaxis_title='Power (W)')\n",
    "fig.show()"
   ]
  },
  {
   "cell_type": "markdown",
   "metadata": {},
   "source": [
    "## Plot result"
   ]
  },
  {
   "cell_type": "code",
   "execution_count": null,
   "metadata": {},
   "outputs": [],
   "source": [
    "# Plot the data in different trace on the same figure\n",
    "fig = go.Figure()\n",
    "for device, df in systemsData.items():\n",
    "    fig.add_trace(go.Scatter(x=df['Timestamp'], y=df['energy_daily_norm'], name=device, mode='markers', visible='legendonly'))\n",
    "    # fig.add_trace(go.Bar(x=df['Timestamp'], y=df['energy_daily_norm'], name=device, width=24 * 60 * 60 * 1000 * 0.8, visible='legendonly'))\n",
    "\n",
    "\n",
    "fig.update_layout(title='Superposition of Daily Data', xaxis_title='Timestamp', yaxis_title='Energy')\n",
    "fig.show()"
   ]
  },
  {
   "cell_type": "code",
   "execution_count": null,
   "metadata": {},
   "outputs": [],
   "source": []
  },
  {
   "cell_type": "code",
   "execution_count": null,
   "metadata": {},
   "outputs": [],
   "source": []
  }
 ],
 "metadata": {
  "kernelspec": {
   "display_name": ".venv",
   "language": "python",
   "name": "python3"
  },
  "language_info": {
   "codemirror_mode": {
    "name": "ipython",
    "version": 3
   },
   "file_extension": ".py",
   "mimetype": "text/x-python",
   "name": "python",
   "nbconvert_exporter": "python",
   "pygments_lexer": "ipython3",
   "version": "3.12.2"
  }
 },
 "nbformat": 4,
 "nbformat_minor": 2
}
