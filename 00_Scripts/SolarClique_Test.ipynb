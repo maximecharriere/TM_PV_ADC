{
 "cells": [
  {
   "cell_type": "code",
   "execution_count": 56,
   "metadata": {},
   "outputs": [],
   "source": [
    "import pandas as pd\n",
    "import numpy as np\n",
    "import os\n",
    "from sklearn.model_selection import KFold\n",
    "import matplotlib.pyplot as plt\n",
    "\n",
    "def bootstrapping(X_train, y_train, frac=0.8, seed=0, n_bootstraps=20):\n",
    "    np.random.seed(seed)\n",
    " \n",
    "    inds = X_train.index\n",
    "    n = len(X_train)\n",
    "    num_samples = int(n * frac)\n",
    "    X_train_boots, y_train_boots, inds_train_boots = [], [], []\n",
    "    for _ in range(n_bootstraps):\n",
    "        inds_sel = np.random.choice(inds, num_samples)\n",
    "        X_train_sel, y_train_sel = X_train.loc[inds_sel], y_train.loc[inds_sel]\n",
    "        X_train_boots.append(X_train_sel); y_train_boots.append(y_train_sel); inds_train_boots.append(inds_sel)\n",
    "    return X_train_boots, y_train_boots, inds_train_boots\n",
    "\n",
    "def cv_train_test_split(X, y, fold=10, seed=0, n_bootstraps=20):\n",
    "    kf = KFold(n_splits=fold, shuffle=True, random_state=seed)\n",
    "    \n",
    "    X_trains, y_trains, X_tests, y_tests = [], [], [], []\n",
    "    all_indices = np.arange(len(X))\n",
    "    for train_index, test_index in kf.split(X):\n",
    "        X_train, X_test = X.iloc[train_index], X.iloc[test_index]\n",
    "        y_train, y_test = y.iloc[train_index], y.iloc[test_index]\n",
    "\n",
    "        print(f\"Train init: {len(X_train)}, Test init: {len(X_test)}\")\n",
    "        \n",
    "        # Bootstrapping on the training set for each fold\n",
    "        X_train_boots, y_train_boots, _ = bootstrapping(X_train, y_train, frac=0.8, seed=seed, n_bootstraps=n_bootstraps)\n",
    "        \n",
    "        print(f\"Train boots: {len(X_train_boots[0])}\")\n",
    "\n",
    "        X_trains.append(X_train_boots)\n",
    "        y_trains.append(y_train_boots)\n",
    "        X_tests.append(X_test)\n",
    "        y_tests.append(y_test)\n",
    "        \n",
    "        print(f\"Train tot: {len(X_trains)}, Test tot: {len(X_tests)}\")\n",
    "\n",
    "    \n",
    "    return X_trains, y_trains, X_tests, y_tests"
   ]
  },
  {
   "cell_type": "code",
   "execution_count": 57,
   "metadata": {},
   "outputs": [],
   "source": [
    "x = np.linspace(1, 100, 100)\n",
    "y = x"
   ]
  },
  {
   "cell_type": "code",
   "execution_count": 59,
   "metadata": {},
   "outputs": [
    {
     "name": "stdout",
     "output_type": "stream",
     "text": [
      "Train init: 90, Test init: 10\n",
      "Train boots: 72\n",
      "Train tot: 1, Test tot: 1\n",
      "Train init: 90, Test init: 10\n",
      "Train boots: 72\n",
      "Train tot: 2, Test tot: 2\n",
      "Train init: 90, Test init: 10\n",
      "Train boots: 72\n",
      "Train tot: 3, Test tot: 3\n",
      "Train init: 90, Test init: 10\n",
      "Train boots: 72\n",
      "Train tot: 4, Test tot: 4\n",
      "Train init: 90, Test init: 10\n",
      "Train boots: 72\n",
      "Train tot: 5, Test tot: 5\n",
      "Train init: 90, Test init: 10\n",
      "Train boots: 72\n",
      "Train tot: 6, Test tot: 6\n",
      "Train init: 90, Test init: 10\n",
      "Train boots: 72\n",
      "Train tot: 7, Test tot: 7\n",
      "Train init: 90, Test init: 10\n",
      "Train boots: 72\n",
      "Train tot: 8, Test tot: 8\n",
      "Train init: 90, Test init: 10\n",
      "Train boots: 72\n",
      "Train tot: 9, Test tot: 9\n",
      "Train init: 90, Test init: 10\n",
      "Train boots: 72\n",
      "Train tot: 10, Test tot: 10\n"
     ]
    }
   ],
   "source": [
    "X_trains, y_trains, X_tests, y_tests = cv_train_test_split(pd.DataFrame(x), pd.Series(y), fold=10, seed=0, n_bootstraps=20)"
   ]
  },
  {
   "cell_type": "code",
   "execution_count": 33,
   "metadata": {},
   "outputs": [],
   "source": []
  },
  {
   "cell_type": "code",
   "execution_count": 43,
   "metadata": {},
   "outputs": [
    {
     "name": "stdout",
     "output_type": "stream",
     "text": [
      "80 20\n",
      "80 20\n",
      "80 20\n",
      "80 20\n",
      "80 20\n"
     ]
    }
   ],
   "source": [
    "kf = KFold(n_splits=5, shuffle=True, random_state=0)\n",
    "\n",
    "for train_index, test_index in kf.split(x):\n",
    "    print(len(train_index), len(test_index))"
   ]
  },
  {
   "cell_type": "code",
   "execution_count": null,
   "metadata": {},
   "outputs": [],
   "source": []
  }
 ],
 "metadata": {
  "kernelspec": {
   "display_name": ".venv",
   "language": "python",
   "name": "python3"
  },
  "language_info": {
   "codemirror_mode": {
    "name": "ipython",
    "version": 3
   },
   "file_extension": ".py",
   "mimetype": "text/x-python",
   "name": "python",
   "nbconvert_exporter": "python",
   "pygments_lexer": "ipython3",
   "version": "3.12.2"
  }
 },
 "nbformat": 4,
 "nbformat_minor": 2
}
